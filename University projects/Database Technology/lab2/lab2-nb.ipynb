{
 "cells": [
  {
   "cell_type": "markdown",
   "metadata": {},
   "source": [
    "<!-- -*- mode: markdown; coding: utf-8; fill-column: 60; ispell-dictionary: \"english\" -*- -->\n",
    "\n",
    "<meta charset=\"utf-8\"/>\n",
    "<meta name=\"viewport\" content=\"width=device-width,initial-scale=1\"/>\n",
    "<link rel=\"stylesheet\" href=\"style.css\">\n",
    "\n",
    "\n",
    "# EDAF75 - lab 2: Testing the database\n",
    "\n",
    "As usual we have to tell Jupyter to allow SQL:"
   ]
  },
  {
   "cell_type": "code",
   "execution_count": 1,
   "metadata": {},
   "outputs": [],
   "source": [
    "%load_ext sql"
   ]
  },
  {
   "cell_type": "markdown",
   "metadata": {},
   "source": [
    "And then we import our movie database"
   ]
  },
  {
   "cell_type": "code",
   "execution_count": 2,
   "metadata": {},
   "outputs": [],
   "source": [
    "%sql sqlite:///movies.sqlite"
   ]
  },
  {
   "cell_type": "markdown",
   "metadata": {},
   "source": [
    "We want to make sure that SQLite3 really checks our foreign\n",
    "key constraints -- to do that, we run:"
   ]
  },
  {
   "cell_type": "code",
   "execution_count": 3,
   "metadata": {},
   "outputs": [
    {
     "name": "stdout",
     "output_type": "stream",
     "text": [
      " * sqlite:///movies.sqlite\n",
      "Done.\n"
     ]
    },
    {
     "data": {
      "text/plain": [
       "[]"
      ]
     },
     "execution_count": 3,
     "metadata": {},
     "output_type": "execute_result"
    }
   ],
   "source": [
    "%%sql\n",
    "PRAGMA foreign_keys=ON;"
   ]
  },
  {
   "cell_type": "markdown",
   "metadata": {},
   "source": [
    "## SQL statements to review at the lab session\n",
    "\n",
    "Write SQL code for the following tasks:\n",
    "\n",
    "+ Show the names of all movies."
   ]
  },
  {
   "cell_type": "code",
   "execution_count": 36,
   "metadata": {},
   "outputs": [
    {
     "name": "stdout",
     "output_type": "stream",
     "text": [
      " * sqlite:///movies.sqlite\n",
      "Done.\n"
     ]
    },
    {
     "data": {
      "text/html": [
       "<table>\n",
       "    <tr>\n",
       "        <th>name</th>\n",
       "    </tr>\n",
       "    <tr>\n",
       "        <td>The Gentlemen</td>\n",
       "    </tr>\n",
       "    <tr>\n",
       "        <td>The Godfather</td>\n",
       "    </tr>\n",
       "    <tr>\n",
       "        <td>The Godfather 2</td>\n",
       "    </tr>\n",
       "    <tr>\n",
       "        <td>The Godfather 3</td>\n",
       "    </tr>\n",
       "</table>"
      ],
      "text/plain": [
       "[('The Gentlemen',),\n",
       " ('The Godfather',),\n",
       " ('The Godfather 2',),\n",
       " ('The Godfather 3',)]"
      ]
     },
     "execution_count": 36,
     "metadata": {},
     "output_type": "execute_result"
    }
   ],
   "source": [
    "%%sql\n",
    "select name\n",
    "from movies"
   ]
  },
  {
   "cell_type": "markdown",
   "metadata": {},
   "source": [
    "+ Show the performance dates for one of the movies."
   ]
  },
  {
   "cell_type": "code",
   "execution_count": 37,
   "metadata": {},
   "outputs": [
    {
     "name": "stdout",
     "output_type": "stream",
     "text": [
      " * sqlite:///movies.sqlite\n",
      "Done.\n"
     ]
    },
    {
     "data": {
      "text/html": [
       "<table>\n",
       "    <tr>\n",
       "        <th>name</th>\n",
       "        <th>date</th>\n",
       "        <th>Start time</th>\n",
       "    </tr>\n",
       "    <tr>\n",
       "        <td>The Godfather</td>\n",
       "        <td>2022-02-01</td>\n",
       "        <td>18:00</td>\n",
       "    </tr>\n",
       "    <tr>\n",
       "        <td>The Godfather</td>\n",
       "        <td>2022-02-01</td>\n",
       "        <td>19:30</td>\n",
       "    </tr>\n",
       "    <tr>\n",
       "        <td>The Godfather</td>\n",
       "        <td>2022-02-01</td>\n",
       "        <td>21:15</td>\n",
       "    </tr>\n",
       "</table>"
      ],
      "text/plain": [
       "[('The Godfather', '2022-02-01', '18:00'),\n",
       " ('The Godfather', '2022-02-01', '19:30'),\n",
       " ('The Godfather', '2022-02-01', '21:15')]"
      ]
     },
     "execution_count": 37,
     "metadata": {},
     "output_type": "execute_result"
    }
   ],
   "source": [
    "%%sql\n",
    "select name, date, start_time as \"Start time\"\n",
    "from movies\n",
    "join screenings\n",
    "on movies.name = screenings.movie_name\n",
    "where name = \"The Godfather\"\n",
    "order by date,start_time"
   ]
  },
  {
   "cell_type": "markdown",
   "metadata": {},
   "source": [
    "+ Show all data concerning performances at a given theatere\n",
    "  on a given date."
   ]
  },
  {
   "cell_type": "code",
   "execution_count": 4,
   "metadata": {},
   "outputs": [
    {
     "name": "stdout",
     "output_type": "stream",
     "text": [
      " * sqlite:///movies.sqlite\n",
      "Done.\n"
     ]
    },
    {
     "data": {
      "text/html": [
       "<table>\n",
       "    <tr>\n",
       "        <th>theatre_name</th>\n",
       "        <th>start_time</th>\n",
       "        <th>date</th>\n",
       "        <th>movie_name</th>\n",
       "        <th>production_year</th>\n",
       "        <th>name</th>\n",
       "        <th>capacity</th>\n",
       "    </tr>\n",
       "    <tr>\n",
       "        <td>Victoria</td>\n",
       "        <td>18:00</td>\n",
       "        <td>2022-02-01</td>\n",
       "        <td>The Godfather</td>\n",
       "        <td>1972</td>\n",
       "        <td>Victoria</td>\n",
       "        <td>220</td>\n",
       "    </tr>\n",
       "    <tr>\n",
       "        <td>Victoria</td>\n",
       "        <td>21:15</td>\n",
       "        <td>2022-02-01</td>\n",
       "        <td>The Godfather</td>\n",
       "        <td>1972</td>\n",
       "        <td>Victoria</td>\n",
       "        <td>220</td>\n",
       "    </tr>\n",
       "</table>"
      ],
      "text/plain": [
       "[('Victoria', '18:00', '2022-02-01', 'The Godfather', 1972, 'Victoria', 220),\n",
       " ('Victoria', '21:15', '2022-02-01', 'The Godfather', 1972, 'Victoria', 220)]"
      ]
     },
     "execution_count": 4,
     "metadata": {},
     "output_type": "execute_result"
    }
   ],
   "source": [
    "%%sql\n",
    "select *\n",
    "from screenings as s\n",
    "join theatres as t \n",
    "on s.theatre_name = t.name\n",
    "where name = \"Victoria\" and date = \"2022-02-01\""
   ]
  },
  {
   "cell_type": "markdown",
   "metadata": {},
   "source": [
    "+ List all customers"
   ]
  },
  {
   "cell_type": "code",
   "execution_count": 39,
   "metadata": {},
   "outputs": [
    {
     "name": "stdout",
     "output_type": "stream",
     "text": [
      " * sqlite:///movies.sqlite\n",
      "Done.\n"
     ]
    },
    {
     "data": {
      "text/html": [
       "<table>\n",
       "    <tr>\n",
       "        <th>user_name</th>\n",
       "        <th>full_name</th>\n",
       "        <th>password</th>\n",
       "    </tr>\n",
       "    <tr>\n",
       "        <td>kingen</td>\n",
       "        <td>Arvid Gramer</td>\n",
       "        <td>hejsan</td>\n",
       "    </tr>\n",
       "    <tr>\n",
       "        <td>fransan</td>\n",
       "        <td>Fanny Spindler Lagercrantzz</td>\n",
       "        <td>arvid&lt;3</td>\n",
       "    </tr>\n",
       "    <tr>\n",
       "        <td>persimon</td>\n",
       "        <td>Simon Danielsson</td>\n",
       "        <td>cmdlinerules</td>\n",
       "    </tr>\n",
       "    <tr>\n",
       "        <td>chuppen</td>\n",
       "        <td>Charlie Nilsson</td>\n",
       "        <td>snartFårJagSpelaWoW</td>\n",
       "    </tr>\n",
       "    <tr>\n",
       "        <td>nelson11</td>\n",
       "        <td>Nils Romanus Myrberg</td>\n",
       "        <td>snartFårJagSpelaWoW</td>\n",
       "    </tr>\n",
       "</table>"
      ],
      "text/plain": [
       "[('kingen', 'Arvid Gramer', 'hejsan'),\n",
       " ('fransan', 'Fanny Spindler Lagercrantzz', 'arvid<3'),\n",
       " ('persimon', 'Simon Danielsson', 'cmdlinerules'),\n",
       " ('chuppen', 'Charlie Nilsson', 'snartFårJagSpelaWoW'),\n",
       " ('nelson11', 'Nils Romanus Myrberg', 'snartFårJagSpelaWoW')]"
      ]
     },
     "execution_count": 39,
     "metadata": {},
     "output_type": "execute_result"
    }
   ],
   "source": [
    "%%sql\n",
    "select *\n",
    "from customers"
   ]
  },
  {
   "cell_type": "code",
   "execution_count": 14,
   "metadata": {},
   "outputs": [
    {
     "name": "stdout",
     "output_type": "stream",
     "text": [
      " * sqlite:///movies.sqlite\n",
      "(sqlite3.OperationalError) ambiguous column name: date\n",
      "[SQL: select user_name, full_name, movie_name, date, start_time, ticket_number\n",
      "from customers\n",
      "join tickets\n",
      "using (user_name)\n",
      "join screenings\n",
      "where (start_time, date)]\n",
      "(Background on this error at: http://sqlalche.me/e/e3q8)\n"
     ]
    }
   ],
   "source": [
    "%%sql\n",
    "select user_name, full_name, movie_name, date, start_time, ticket_number\n",
    "from customers\n",
    "join tickets\n",
    "using (user_name)\n",
    "join screenings\n",
    "where (start_time, date)"
   ]
  },
  {
   "cell_type": "markdown",
   "metadata": {},
   "source": [
    "+ List all tickets"
   ]
  },
  {
   "cell_type": "code",
   "execution_count": 6,
   "metadata": {},
   "outputs": [
    {
     "name": "stdout",
     "output_type": "stream",
     "text": [
      " * sqlite:///movies.sqlite\n",
      "Done.\n"
     ]
    },
    {
     "data": {
      "text/html": [
       "<table>\n",
       "    <tr>\n",
       "        <th>ticket_number</th>\n",
       "        <th>start_time</th>\n",
       "        <th>date</th>\n",
       "        <th>theatre</th>\n",
       "        <th>user_name</th>\n",
       "    </tr>\n",
       "    <tr>\n",
       "        <td>002212</td>\n",
       "        <td>19:30</td>\n",
       "        <td>2022-02-01</td>\n",
       "        <td>Rigoletto</td>\n",
       "        <td>kingen</td>\n",
       "    </tr>\n",
       "    <tr>\n",
       "        <td>002213</td>\n",
       "        <td>19:30</td>\n",
       "        <td>2022-02-01</td>\n",
       "        <td>Rigoletto</td>\n",
       "        <td>fransan</td>\n",
       "    </tr>\n",
       "    <tr>\n",
       "        <td>001233</td>\n",
       "        <td>19:30</td>\n",
       "        <td>2022-02-01</td>\n",
       "        <td>Rigoletto</td>\n",
       "        <td>persimon</td>\n",
       "    </tr>\n",
       "    <tr>\n",
       "        <td>002214</td>\n",
       "        <td>19:30</td>\n",
       "        <td>2022-02-01</td>\n",
       "        <td>Rigoletto</td>\n",
       "        <td>chuppen</td>\n",
       "    </tr>\n",
       "    <tr>\n",
       "        <td>002241</td>\n",
       "        <td>19:30</td>\n",
       "        <td>2022-02-01</td>\n",
       "        <td>Rigoletto</td>\n",
       "        <td>nelson11</td>\n",
       "    </tr>\n",
       "</table>"
      ],
      "text/plain": [
       "[('002212', '19:30', '2022-02-01', 'Rigoletto', 'kingen'),\n",
       " ('002213', '19:30', '2022-02-01', 'Rigoletto', 'fransan'),\n",
       " ('001233', '19:30', '2022-02-01', 'Rigoletto', 'persimon'),\n",
       " ('002214', '19:30', '2022-02-01', 'Rigoletto', 'chuppen'),\n",
       " ('002241', '19:30', '2022-02-01', 'Rigoletto', 'nelson11')]"
      ]
     },
     "execution_count": 6,
     "metadata": {},
     "output_type": "execute_result"
    }
   ],
   "source": [
    "%%sql\n",
    "select *\n",
    "from tickets"
   ]
  },
  {
   "cell_type": "code",
   "execution_count": 39,
   "metadata": {},
   "outputs": [
    {
     "name": "stdout",
     "output_type": "stream",
     "text": [
      " * sqlite:///movies.sqlite\n",
      "Done.\n"
     ]
    },
    {
     "data": {
      "text/html": [
       "<table>\n",
       "    <tr>\n",
       "        <th>date</th>\n",
       "        <th>start_time</th>\n",
       "        <th>theatre_name</th>\n",
       "        <th>nbr</th>\n",
       "    </tr>\n",
       "    <tr>\n",
       "        <td>2022-02-01</td>\n",
       "        <td>19:30</td>\n",
       "        <td>Rigoletto</td>\n",
       "        <td>895</td>\n",
       "    </tr>\n",
       "</table>"
      ],
      "text/plain": [
       "[('2022-02-01', '19:30', 'Rigoletto', 895)]"
      ]
     },
     "execution_count": 39,
     "metadata": {},
     "output_type": "execute_result"
    }
   ],
   "source": [
    "%%sql\n",
    "with seats_left(date, start_time, theatre_name, nbr) as(\n",
    "    select ti.date, ti.start_time, th.name, th.capacity - count(ti.ticket_number)\n",
    "    from theatres as th\n",
    "    left outer join screenings as s\n",
    "    on s.theatre_name = th.name\n",
    "    join tickets as ti\n",
    "    on ti.theatre = th.name\n",
    ")\n",
    "select *\n",
    "from seats_left\n"
   ]
  },
  {
   "cell_type": "code",
   "execution_count": 10,
   "metadata": {},
   "outputs": [],
   "source": [
    "%sql sqlite:///movies_3.sqlite"
   ]
  },
  {
   "cell_type": "code",
   "execution_count": 18,
   "metadata": {},
   "outputs": [
    {
     "name": "stdout",
     "output_type": "stream",
     "text": [
      "   sqlite:///movies.sqlite\n",
      " * sqlite:///movies_3.sqlite\n",
      "Done.\n"
     ]
    },
    {
     "data": {
      "text/html": [
       "<table>\n",
       "    <tr>\n",
       "        <th>name</th>\n",
       "        <th>capacity</th>\n",
       "    </tr>\n",
       "    <tr>\n",
       "        <td>Rigoletto</td>\n",
       "        <td>900</td>\n",
       "    </tr>\n",
       "    <tr>\n",
       "        <td>Söder</td>\n",
       "        <td>150</td>\n",
       "    </tr>\n",
       "    <tr>\n",
       "        <td>Victoria</td>\n",
       "        <td>220</td>\n",
       "    </tr>\n",
       "    <tr>\n",
       "        <td>Astoria</td>\n",
       "        <td>450</td>\n",
       "    </tr>\n",
       "</table>"
      ],
      "text/plain": [
       "[('Rigoletto', 900), ('Söder', 150), ('Victoria', 220), ('Astoria', 450)]"
      ]
     },
     "execution_count": 18,
     "metadata": {},
     "output_type": "execute_result"
    }
   ],
   "source": [
    "%%sql\n",
    "select * \n",
    "from theatres"
   ]
  },
  {
   "cell_type": "code",
   "execution_count": 78,
   "metadata": {},
   "outputs": [
    {
     "name": "stdout",
     "output_type": "stream",
     "text": [
      " * sqlite:///movies.sqlite\n",
      "   sqlite:///movies_2.sqlite\n",
      "   sqlite:///movies_3.sqlite\n",
      "(sqlite3.OperationalError) cannot join using column screening_id - column not present in both tables\n",
      "[SQL: WITH seats_left(screening_id, remaining_tickets) as (\n",
      "SELECT s.screening_id, th.capacity - count(ti.ticket_number)\n",
      "FROM theatres AS th\n",
      "LEFT outer join screenings AS s\n",
      "ON s.theatre_name = th.name\n",
      "JOIN tickets AS ti\n",
      "ON ti.start_time  = s.start_time\n",
      "GROUP BY s.start_time, s.date\n",
      ")\n",
      "\n",
      "SELECT screening_id, date, start_time, movie_name, production_year, theatre_name, remaining_tickets\n",
      "FROM screenings\n",
      "LEFT OUTER JOIN seats_left using (screening_id)]\n",
      "(Background on this error at: http://sqlalche.me/e/e3q8)\n"
     ]
    }
   ],
   "source": [
    "%%sql\n",
    "WITH seats_left(screening_id, remaining_tickets) as (\n",
    "SELECT s.screening_id, th.capacity - count(ti.ticket_number)\n",
    "FROM theatres AS th\n",
    "LEFT outer join screenings AS s\n",
    "ON s.theatre_name = th.name\n",
    "JOIN tickets AS ti\n",
    "ON ti.start_time  = s.start_time\n",
    "GROUP BY s.start_time, s.date\n",
    ")\n",
    "\n",
    "SELECT screening_id, date, start_time, movie_name, production_year, theatre_name, remaining_tickets\n",
    "FROM screenings\n",
    "LEFT OUTER JOIN seats_left using (screening_id)"
   ]
  },
  {
   "cell_type": "code",
   "execution_count": 77,
   "metadata": {},
   "outputs": [
    {
     "name": "stdout",
     "output_type": "stream",
     "text": [
      " * sqlite:///movies.sqlite\n",
      "   sqlite:///movies_2.sqlite\n",
      "   sqlite:///movies_3.sqlite\n",
      "Done.\n"
     ]
    },
    {
     "data": {
      "text/html": [
       "<table>\n",
       "    <tr>\n",
       "        <th>ticket_number</th>\n",
       "        <th>start_time</th>\n",
       "        <th>date</th>\n",
       "        <th>theatre</th>\n",
       "        <th>user_name</th>\n",
       "        <th>theatre_name</th>\n",
       "        <th>movie_name</th>\n",
       "        <th>production_year</th>\n",
       "    </tr>\n",
       "    <tr>\n",
       "        <td>002212</td>\n",
       "        <td>19:30</td>\n",
       "        <td>2022-02-01</td>\n",
       "        <td>Rigoletto</td>\n",
       "        <td>kingen</td>\n",
       "        <td>Rigoletto</td>\n",
       "        <td>The Godfather</td>\n",
       "        <td>1972</td>\n",
       "    </tr>\n",
       "    <tr>\n",
       "        <td>002213</td>\n",
       "        <td>19:30</td>\n",
       "        <td>2022-02-01</td>\n",
       "        <td>Rigoletto</td>\n",
       "        <td>fransan</td>\n",
       "        <td>Rigoletto</td>\n",
       "        <td>The Godfather</td>\n",
       "        <td>1972</td>\n",
       "    </tr>\n",
       "    <tr>\n",
       "        <td>001233</td>\n",
       "        <td>19:30</td>\n",
       "        <td>2022-02-01</td>\n",
       "        <td>Rigoletto</td>\n",
       "        <td>persimon</td>\n",
       "        <td>Rigoletto</td>\n",
       "        <td>The Godfather</td>\n",
       "        <td>1972</td>\n",
       "    </tr>\n",
       "    <tr>\n",
       "        <td>002214</td>\n",
       "        <td>19:30</td>\n",
       "        <td>2022-02-01</td>\n",
       "        <td>Rigoletto</td>\n",
       "        <td>chuppen</td>\n",
       "        <td>Rigoletto</td>\n",
       "        <td>The Godfather</td>\n",
       "        <td>1972</td>\n",
       "    </tr>\n",
       "    <tr>\n",
       "        <td>002241</td>\n",
       "        <td>19:30</td>\n",
       "        <td>2022-02-01</td>\n",
       "        <td>Rigoletto</td>\n",
       "        <td>nelson11</td>\n",
       "        <td>Rigoletto</td>\n",
       "        <td>The Godfather</td>\n",
       "        <td>1972</td>\n",
       "    </tr>\n",
       "</table>"
      ],
      "text/plain": [
       "[('002212', '19:30', '2022-02-01', 'Rigoletto', 'kingen', 'Rigoletto', 'The Godfather', 1972),\n",
       " ('002213', '19:30', '2022-02-01', 'Rigoletto', 'fransan', 'Rigoletto', 'The Godfather', 1972),\n",
       " ('001233', '19:30', '2022-02-01', 'Rigoletto', 'persimon', 'Rigoletto', 'The Godfather', 1972),\n",
       " ('002214', '19:30', '2022-02-01', 'Rigoletto', 'chuppen', 'Rigoletto', 'The Godfather', 1972),\n",
       " ('002241', '19:30', '2022-02-01', 'Rigoletto', 'nelson11', 'Rigoletto', 'The Godfather', 1972)]"
      ]
     },
     "execution_count": 77,
     "metadata": {},
     "output_type": "execute_result"
    }
   ],
   "source": [
    "%%sql\n",
    "SELECT *\n",
    "FROM tickets\n",
    "JOIN screenings\n",
    "using (date, start_time)"
   ]
  },
  {
   "cell_type": "code",
   "execution_count": 76,
   "metadata": {},
   "outputs": [
    {
     "name": "stdout",
     "output_type": "stream",
     "text": [
      " * sqlite:///movies.sqlite\n",
      "   sqlite:///movies_2.sqlite\n",
      "   sqlite:///movies_3.sqlite\n",
      "Done.\n"
     ]
    },
    {
     "data": {
      "text/html": [
       "<table>\n",
       "    <tr>\n",
       "        <th>theatre_name</th>\n",
       "        <th>start_time</th>\n",
       "        <th>date</th>\n",
       "        <th>movie_name</th>\n",
       "        <th>production_year</th>\n",
       "    </tr>\n",
       "    <tr>\n",
       "        <td>Rigoletto</td>\n",
       "        <td>19:30</td>\n",
       "        <td>2022-02-01</td>\n",
       "        <td>The Godfather</td>\n",
       "        <td>1972</td>\n",
       "    </tr>\n",
       "    <tr>\n",
       "        <td>Söder</td>\n",
       "        <td>17:30</td>\n",
       "        <td>2022-02-02</td>\n",
       "        <td>The Gentlemen</td>\n",
       "        <td>2019</td>\n",
       "    </tr>\n",
       "    <tr>\n",
       "        <td>Victoria</td>\n",
       "        <td>18:00</td>\n",
       "        <td>2022-02-01</td>\n",
       "        <td>The Godfather</td>\n",
       "        <td>1972</td>\n",
       "    </tr>\n",
       "    <tr>\n",
       "        <td>Victoria</td>\n",
       "        <td>21:15</td>\n",
       "        <td>2022-02-01</td>\n",
       "        <td>The Godfather</td>\n",
       "        <td>1972</td>\n",
       "    </tr>\n",
       "</table>"
      ],
      "text/plain": [
       "[('Rigoletto', '19:30', '2022-02-01', 'The Godfather', 1972),\n",
       " ('Söder', '17:30', '2022-02-02', 'The Gentlemen', 2019),\n",
       " ('Victoria', '18:00', '2022-02-01', 'The Godfather', 1972),\n",
       " ('Victoria', '21:15', '2022-02-01', 'The Godfather', 1972)]"
      ]
     },
     "execution_count": 76,
     "metadata": {},
     "output_type": "execute_result"
    }
   ],
   "source": [
    "%%sql\n",
    "SELECT *\n",
    "FROM screenings"
   ]
  },
  {
   "cell_type": "code",
   "execution_count": 13,
   "metadata": {},
   "outputs": [
    {
     "name": "stdout",
     "output_type": "stream",
     "text": [
      "   sqlite:///movies.sqlite\n",
      " * sqlite:///movies_3.sqlite\n",
      "2 rows affected.\n"
     ]
    },
    {
     "data": {
      "text/plain": [
       "[]"
      ]
     },
     "execution_count": 13,
     "metadata": {},
     "output_type": "execute_result"
    }
   ],
   "source": [
    "%%sql\n",
    "INSERT\n",
    "INTO     tickets(ticket_number, start_time, date, theatre, user_name)\n",
    "VALUES   ('102212', '19:30', '2022-02-01', 'Rigoletto', 'kingen'),\n",
    "         ('102213', '19:30', '2022-02-01', 'Rigoletto', 'fransan');"
   ]
  },
  {
   "cell_type": "code",
   "execution_count": 17,
   "metadata": {},
   "outputs": [
    {
     "name": "stdout",
     "output_type": "stream",
     "text": [
      "   sqlite:///movies.sqlite\n",
      " * sqlite:///movies_3.sqlite\n",
      "Done.\n"
     ]
    },
    {
     "data": {
      "text/html": [
       "<table>\n",
       "    <tr>\n",
       "        <th>theatre_name</th>\n",
       "        <th>start_time</th>\n",
       "        <th>date</th>\n",
       "        <th>movie_name</th>\n",
       "        <th>production_year</th>\n",
       "        <th>screening_id</th>\n",
       "    </tr>\n",
       "</table>"
      ],
      "text/plain": [
       "[]"
      ]
     },
     "execution_count": 17,
     "metadata": {},
     "output_type": "execute_result"
    }
   ],
   "source": [
    "%%sql\n",
    "SELECT *\n",
    "FROM screenings"
   ]
  },
  {
   "cell_type": "code",
   "execution_count": 14,
   "metadata": {},
   "outputs": [
    {
     "name": "stdout",
     "output_type": "stream",
     "text": [
      "   sqlite:///movies.sqlite\n",
      " * sqlite:///movies_3.sqlite\n",
      "Done.\n"
     ]
    },
    {
     "data": {
      "text/html": [
       "<table>\n",
       "    <tr>\n",
       "        <th>date</th>\n",
       "        <th>start_time</th>\n",
       "        <th>theatre</th>\n",
       "        <th>movie_name</th>\n",
       "        <th>production_year</th>\n",
       "        <th>nbr_of_tickets</th>\n",
       "    </tr>\n",
       "</table>"
      ],
      "text/plain": [
       "[]"
      ]
     },
     "execution_count": 14,
     "metadata": {},
     "output_type": "execute_result"
    }
   ],
   "source": [
    "%%sql\n",
    "SELECT s.date, s.start_time, theatre, movie_name, production_year, count() as nbr_of_tickets\n",
    "FROM tickets AS ti\n",
    "JOIN screenings AS s\n",
    "ON s.date = ti.date AND s.start_time = ti.start_time AND s.theatre_name = ti.theatre\n",
    "GROUP BY user_name\n",
    "HAVING user_name = \"kingen\""
   ]
  },
  {
   "cell_type": "markdown",
   "metadata": {},
   "source": [
    "## Things to try out yourselves (not reviewed at the lab session)\n",
    "\n",
    "During lab 3 you'll write a REST service for the database\n",
    "you just created, and for the server to work properly, the\n",
    "things below should work.\n",
    "\n",
    "If you have any questions about the material below, feel\n",
    "free to ask them at the QA sessions (see Moodle for how to\n",
    "sign up for them).\n",
    "\n",
    "\n",
    "+ Create a new ticket to some performance (i.e., insert a\n",
    "  new row in your table of tickets)."
   ]
  },
  {
   "cell_type": "code",
   "execution_count": null,
   "metadata": {},
   "outputs": [],
   "source": [
    "%%sql\n"
   ]
  },
  {
   "cell_type": "markdown",
   "metadata": {},
   "source": [
    "In newer versions of SQLite (since version 3.35, released\n",
    "  in March 2021), and in\n",
    "  [PostgreSQL](https://www.postgresql.org/docs/current/sql-insert.html),\n",
    "  we can get any value generated during an insert using the\n",
    "  `INSERT...-RETURNING` statement:"
   ]
  },
  {
   "cell_type": "markdown",
   "metadata": {},
   "source": [
    "~~~{.sql}\n",
    "INSERT\n",
    "INTO       students\n",
    "VALUES     ('Amy', 3.9, 1200)\n",
    "RETURNING  s_id\n",
    "~~~\n"
   ]
  },
  {
   "cell_type": "markdown",
   "metadata": {},
   "source": [
    "which would return the generated `s_id` for the new\n",
    "  student.\n",
    "\n",
    "  If your SQLite version is older than 3.35, and you can't\n",
    "  upgrade, you can instead use the following idea: each row\n",
    "  in a SQLite3 table has a `rowid` attribute, it is a unique\n",
    "  integer which essentially tells in which order the rows\n",
    "  were inserted, and it's not displayed in queries unless we\n",
    "  ask for it. SQLite3 also have a function,\n",
    "  `last_insert_rowid()`, which returns the `rowid` of the\n",
    "  last inserted row of a table, so we can see the `s_id` of\n",
    "  the most recently inserted student with the following\n",
    "  query:"
   ]
  },
  {
   "cell_type": "markdown",
   "metadata": {},
   "source": [
    "~~~{.sql}\n",
    "SELECT s_id\n",
    "FROM   students\n",
    "WHERE  rowid = last_insert_rowid();\n",
    "~~~\n"
   ]
  },
  {
   "cell_type": "markdown",
   "metadata": {},
   "source": [
    "Now, check what ticket number we got for the ticket we\n",
    "  created above (it should be the same as the ticket id,\n",
    "  which should be a `randomblob`):"
   ]
  },
  {
   "cell_type": "code",
   "execution_count": 5,
   "metadata": {},
   "outputs": [
    {
     "name": "stdout",
     "output_type": "stream",
     "text": [
      " * sqlite:///movies.sqlite\n",
      "Done.\n"
     ]
    },
    {
     "data": {
      "text/html": [
       "<table>\n",
       "    <tr>\n",
       "        <th>date</th>\n",
       "        <th>start_time</th>\n",
       "        <th>theatre</th>\n",
       "        <th>movie_name</th>\n",
       "        <th>production_year</th>\n",
       "        <th>nbr_of_tickets</th>\n",
       "    </tr>\n",
       "    <tr>\n",
       "        <td>2022-02-01</td>\n",
       "        <td>19:30</td>\n",
       "        <td>Rigoletto</td>\n",
       "        <td>The Godfather</td>\n",
       "        <td>1972</td>\n",
       "        <td>1</td>\n",
       "    </tr>\n",
       "</table>"
      ],
      "text/plain": [
       "[('2022-02-01', '19:30', 'Rigoletto', 'The Godfather', 1972, 1)]"
      ]
     },
     "execution_count": 5,
     "metadata": {},
     "output_type": "execute_result"
    }
   ],
   "source": [
    "%%sql\n",
    "SELECT s.date, s.start_time, theatre, movie_name, production_year, count() as nbr_of_tickets\n",
    "FROM tickets AS ti\n",
    "JOIN screenings AS s\n",
    "ON s.date = ti.date AND s.start_time = ti.start_time AND s.theatre_name = ti.theatre\n",
    "GROUP BY user_name\n",
    "HAVING user_name = \"nelson11\""
   ]
  },
  {
   "cell_type": "markdown",
   "metadata": {},
   "source": [
    "+ Try to insert two movie theaters with the same name (this\n",
    "  should fail)."
   ]
  },
  {
   "cell_type": "code",
   "execution_count": null,
   "metadata": {},
   "outputs": [],
   "source": [
    "%%sql\n"
   ]
  },
  {
   "cell_type": "markdown",
   "metadata": {},
   "source": [
    "+ Try to insert a performance where the theater doesn’t\n",
    "  exist in the database (this should fail)."
   ]
  },
  {
   "cell_type": "code",
   "execution_count": null,
   "metadata": {},
   "outputs": [],
   "source": [
    "%%sql\n"
   ]
  },
  {
   "cell_type": "markdown",
   "metadata": {},
   "source": [
    "+ Create a ticket where either the user or the performance\n",
    "  doesn’t exist (this should fail)."
   ]
  },
  {
   "cell_type": "code",
   "execution_count": null,
   "metadata": {},
   "outputs": [],
   "source": [
    "%%sql\n"
   ]
  },
  {
   "cell_type": "code",
   "execution_count": 7,
   "metadata": {},
   "outputs": [],
   "source": [
    "import sqlite3"
   ]
  },
  {
   "cell_type": "code",
   "execution_count": 16,
   "metadata": {},
   "outputs": [
    {
     "name": "stdout",
     "output_type": "stream",
     "text": [
      "[]\n"
     ]
    }
   ],
   "source": [
    "conn = sqlite3.connect('localhost:7007')\n",
    "cursor = conn.cursor()\n",
    "\n",
    "# Execute an SQL query\n",
    "cursor.execute(\"\"\"SELECT name FROM sqlite_master  WHERE type='table';\"\"\")\n",
    "print(cursor.fetchall())"
   ]
  },
  {
   "cell_type": "code",
   "execution_count": null,
   "metadata": {},
   "outputs": [],
   "source": []
  }
 ],
 "metadata": {
  "kernelspec": {
   "display_name": "Python 3",
   "language": "python",
   "name": "python3"
  },
  "language_info": {
   "codemirror_mode": {
    "name": "ipython",
    "version": 3
   },
   "file_extension": ".py",
   "mimetype": "text/x-python",
   "name": "python",
   "nbconvert_exporter": "python",
   "pygments_lexer": "ipython3",
   "version": "3.7.6"
  }
 },
 "nbformat": 4,
 "nbformat_minor": 5
}
