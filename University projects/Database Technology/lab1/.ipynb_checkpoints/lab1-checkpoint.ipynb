{
 "cells": [
  {
   "cell_type": "markdown",
   "metadata": {},
   "source": [
    "<!-- # -*- mode: markdown; coding: utf-8; fill-column: 60; org-indent-mode: t; column-number-mode: t; flyspell-mode: t; ispell-local-dictionary: \"en\"; eval: (visual-on); -*- -->\n",
    "\n",
    "<meta charset=\"utf-8\"/>\n",
    "<meta name=\"viewport\" content=\"width=device-width,initial-scale=1\"/>\n",
    "<link rel=\"stylesheet\" href=\"style.css\">\n",
    "\n",
    "\n",
    "# EDAF75 - lab 1: SQL\n",
    "\n",
    "This lab is meant to be run as a `jupyter` notebook, you could download it [here](lab1.zip) (the zip-file contains the notebook and the database, and a [.html-file](lab1.html) which you can read in case you have problems reading/running jupyter notebooks).\n",
    "\n",
    "To start your notebook, you can use the following commands (after you've downloaded [the zip file](lab1.zip) -- observe that the `$` is the shell prompt, you shouldn't type it):"
   ]
  },
  {
   "cell_type": "markdown",
   "metadata": {},
   "source": [
    "```sh\n",
    "$ unzip lab1.zip\n",
    "$ jupyter notebook    # or jupyter lab\n",
    "```\n"
   ]
  },
  {
   "cell_type": "markdown",
   "metadata": {},
   "source": [
    "This should start jupyter in a browser tab, and there you can click \"lab1.ipynb\".\n",
    "\n",
    "\n",
    "# Background\n",
    "\n",
    "We have a database to handle the academic achievements of students at LTH -- in it we have four tables:\n",
    "\n",
    "<hr>\n",
    "<table rules=\"all\">\n",
    " <tr>\n",
    "  <th align=\"left\"><code>students:</code></th>\n",
    "  <th></th>\n",
    " </tr>\n",
    " <tr>\n",
    "  <td><code>ssn</code></td>\n",
    "  <td>social security number</td>\n",
    " </tr>\n",
    " <tr>\n",
    "  <td><code>first_name</code></td>\n",
    "  <td>first name (obviously!)</td>\n",
    " </tr>\n",
    " <tr>\n",
    "  <td><code>last_name</code></td>\n",
    "  <td>last name</td>\n",
    " </tr>\n",
    "</table>\n",
    "\n",
    "<hr>\n",
    "<table rules=\"all\">\n",
    " <tr>\n",
    "  <th align=\"left\"><code>departments:</code></th>\n",
    "  <th></th>\n",
    " </tr>\n",
    " <tr>\n",
    "  <td><code>department_code</code></td>\n",
    "  <td>unique code for each department</td>\n",
    " </tr>\n",
    " <tr>\n",
    "  <td><code>department_name</code></td>\n",
    "  <td>the name of the department, in Swedish</td>\n",
    " </tr>\n",
    "</table>\n",
    "\n",
    "<hr>\n",
    "<table rules=\"all\">\n",
    " <tr>\n",
    "  <th align=\"left\"><code>courses:</code></th>\n",
    "  <th></th>\n",
    " </tr>\n",
    " <tr>\n",
    "  <td><code>course_code</code></td>\n",
    "  <td>course code, like <code>EDAF75</code></td>\n",
    " </tr>\n",
    " <tr>\n",
    "  <td><code>course_name</code></td>\n",
    "  <td>the name of the course, in Swedish (like \"Databasteknik\")</td>\n",
    " </tr>\n",
    " <tr>\n",
    "  <td><code>department_code</code></td>\n",
    "  <td>the department giving the course</td>\n",
    " </tr>\n",
    " <tr>\n",
    "  <td><code>level</code></td>\n",
    "  <td>the course level, like \"G1\", \"G2\", or \"A\"</td>\n",
    " </tr>\n",
    " <tr>\n",
    "  <td><code>credits</code></td>\n",
    "  <td>the number of credits for the course, like 7.5</td>\n",
    " </tr>\n",
    "</table>\n",
    "\n",
    "<hr>\n",
    "<table rules=\"all\">\n",
    " <tr>\n",
    "  <th align=\"left\"><code>taken_courses:</code></th>\n",
    "  <th></th>\n",
    " </tr>\n",
    " <tr>\n",
    "  <td><code>ssn</code></td>\n",
    "  <td>the social security number of a student</td>\n",
    " </tr>\n",
    " <tr>\n",
    "  <td><code>course_code</code></td>\n",
    "  <td>the course code for the course the student has taken</td>\n",
    " </tr>\n",
    " <tr>\n",
    "  <td><code>grade</code></td>\n",
    "  <td>the grade for the student passing the course</td>\n",
    " </tr>\n",
    "</table>\n",
    "\n",
    "<hr>\n",
    "\n",
    "<center>\n",
    "  <img src=\"lab1-uml.png\">\n",
    "</center>\n",
    "\n",
    "Some sample data:"
   ]
  },
  {
   "cell_type": "markdown",
   "metadata": {},
   "source": [
    "```text\n",
    "ssn           first_name   last_name\n",
    "---           ----------   ---------\n",
    "861103–2438   Bo           Ek\n",
    "911212–1746   Eva          Alm\n",
    "950829–1848   Anna         Nyström\n",
    "...           ...          ...\n",
    "\n",
    "department_code  department_name\n",
    "---------------  ----------------------------------------\n",
    "eda              Datavetenskap\n",
    "edi              Informationsteori\n",
    "eem              Elektrisk mätteknik\n",
    "eie              Industriell elektroteknik och automation\n",
    "...              ...\n",
    "\n",
    "course_code  course_name                         department_code  level  credits\n",
    "-----------  ----------------------------------  ---------------  -----  -------\n",
    "ETTN05       Adaptiv signalbehandling            eit              A      7.5\n",
    "FMAN10       Algebraiska strukturer              fma              A      7.5\n",
    "ETIN80       Algoritmer i signalprocessorer...   eit              A      7.5\n",
    "EDAF05       Algoritmer, datastrukturer och...   eda              G2     5.0\n",
    "...          ...                                 ...              ...    ...\n",
    "\n",
    "ssn           course_code   grade\n",
    "---           -----------   -----\n",
    "861103–2438   EDA016        4\n",
    "861103–2438   EDAA01        3\n",
    "911212–1746   EDA016        3\n",
    "...           ...           ...\n",
    "```\n"
   ]
  },
  {
   "cell_type": "markdown",
   "metadata": {},
   "source": [
    "The tables have been created with the following SQL\n",
    "statements:"
   ]
  },
  {
   "cell_type": "markdown",
   "metadata": {},
   "source": [
    "```sql\n",
    "CREATE TABLE students (\n",
    "  ssn          CHAR(11),\n",
    "  first_name   TEXT NOT NULL,\n",
    "  last_name    TEXT NOT NULL,\n",
    "  PRIMARY KEY  (ssn)\n",
    ");\n",
    "\n",
    "CREATE TABLE departments (\n",
    "  department_code    TEXT,\n",
    "  department_name    TEXT,\n",
    "  PRIMARY KEY (department_code)\n",
    ");\n",
    "\n",
    "CREATE TABLE courses (\n",
    "  course_code      CHAR(6),\n",
    "  course_name      TEXT NOT NULL,\n",
    "  department_code  TEXT,\n",
    "  level            CHAR(2),\n",
    "  credits          DOUBLE NOT NULL CHECK (credits >= 0),\n",
    "  PRIMARY KEY      (course_code),\n",
    "  FOREIGN KEY      (department_code) REFERENCES departments(department_code)\n",
    ");\n",
    "\n",
    "CREATE TABLE taken_courses (\n",
    "  ssn           CHAR(11),\n",
    "  course_code   CHAR(6),\n",
    "  grade         INTEGER NOT NULL CHECK (grade >= 3 AND grade <= 5),\n",
    "  PRIMARY KEY   (ssn, course_code),\n",
    "  FOREIGN KEY   (ssn) REFERENCES students(ssn),\n",
    "  FOREIGN KEY   (course_code) REFERENCES courses(course_code)\n",
    ");\n",
    "```\n"
   ]
  },
  {
   "cell_type": "markdown",
   "metadata": {},
   "source": [
    "All courses offered at the \"Computer Science and Engineering\" program at LTH during the academic year 2013/14 are in the table 'courses`. Also, the database has been filled with made up data. SQL statements like the following have been used to insert the data:"
   ]
  },
  {
   "cell_type": "markdown",
   "metadata": {},
   "source": [
    "```sql\n",
    "INTO   students(ssn, first_name, last_name)\n",
    "VALUES ('950705-2308', 'Anna', 'Johansson'),\n",
    "       ('930702-3582', 'Anna', 'Johansson'),\n",
    "       ('911212-1746', 'Eva', 'Alm'),\n",
    "       ('910707-3787', 'Eva', 'Nilsson'),\n",
    "       ...\n",
    "```\n"
   ]
  },
  {
   "cell_type": "markdown",
   "metadata": {},
   "source": [
    "The information about which departments gives which courses is somewhat haphazard (some of the departments in the database no longer exist, and some of them may never have existed).\n",
    "Our database assumes each course is given by a single department, in real life, departments can share courses -- if you want to practice what we're talking about in week 2 and week 3, try to come up with a modification of the database design, which allows departments to share courses (you can ask your TA about it during the lab session).\n",
    "\n",
    "\n",
    "# Assignments\n",
    "\n",
    "To pass this lab, you only need to show your solutions to the problems marked REVIEW below -- that's the only ones we'll be looking at during the lab sessions.\n",
    "You can skip the other problems at your own discretion, but I strongly recommend that you try them out, for practice.\n",
    "\n",
    "As said above, this lab is designed to be run as a jupyter notebook (either using =jupyter lab=, or =jupyter notebook=).\n",
    "If you haven't been able to get =jupyter= up and running on your computer, you can run the sql-commands for the problems below interactively inside =sqlite3=, or as a script file with all your commands, or inside some IDE, like [DB Browser for SQLite](https://sqlitebrowser.org/).\n",
    "\n",
    "If you're running the lab as a notebook (and hopefully you are!), evaluate the following cells before you begin:"
   ]
  },
  {
   "cell_type": "code",
   "execution_count": 1,
   "metadata": {},
   "outputs": [],
   "source": [
    "%load_ext sql"
   ]
  },
  {
   "cell_type": "code",
   "execution_count": 2,
   "metadata": {},
   "outputs": [],
   "source": [
    "%sql sqlite:///lab1.sqlite"
   ]
  },
  {
   "cell_type": "markdown",
   "metadata": {},
   "source": [
    "The tables `students`, `departments`, `courses` and `taken_courses` are already in your database, you can see some of their contents by running the cells below:"
   ]
  },
  {
   "cell_type": "code",
   "execution_count": 3,
   "metadata": {},
   "outputs": [
    {
     "name": "stdout",
     "output_type": "stream",
     "text": [
      " * sqlite:///lab1.sqlite\n",
      "Done.\n"
     ]
    },
    {
     "data": {
      "text/html": [
       "<table>\n",
       "    <tr>\n",
       "        <th>ssn</th>\n",
       "        <th>first_name</th>\n",
       "        <th>last_name</th>\n",
       "    </tr>\n",
       "    <tr>\n",
       "        <td>950705-2308</td>\n",
       "        <td>Anna</td>\n",
       "        <td>Johansson</td>\n",
       "    </tr>\n",
       "    <tr>\n",
       "        <td>930702-3582</td>\n",
       "        <td>Anna</td>\n",
       "        <td>Johansson</td>\n",
       "    </tr>\n",
       "    <tr>\n",
       "        <td>911212-1746</td>\n",
       "        <td>Eva</td>\n",
       "        <td>Alm</td>\n",
       "    </tr>\n",
       "    <tr>\n",
       "        <td>910707-3787</td>\n",
       "        <td>Eva</td>\n",
       "        <td>Nilsson</td>\n",
       "    </tr>\n",
       "</table>"
      ],
      "text/plain": [
       "[('950705-2308', 'Anna', 'Johansson'),\n",
       " ('930702-3582', 'Anna', 'Johansson'),\n",
       " ('911212-1746', 'Eva', 'Alm'),\n",
       " ('910707-3787', 'Eva', 'Nilsson')]"
      ]
     },
     "execution_count": 3,
     "metadata": {},
     "output_type": "execute_result"
    }
   ],
   "source": [
    "%%sql\n",
    "SELECT  *\n",
    "FROM    students\n",
    "LIMIT   4"
   ]
  },
  {
   "cell_type": "code",
   "execution_count": 4,
   "metadata": {},
   "outputs": [
    {
     "name": "stdout",
     "output_type": "stream",
     "text": [
      " * sqlite:///lab1.sqlite\n",
      "Done.\n"
     ]
    },
    {
     "data": {
      "text/html": [
       "<table>\n",
       "    <tr>\n",
       "        <th>department_code</th>\n",
       "        <th>department_name</th>\n",
       "    </tr>\n",
       "    <tr>\n",
       "        <td>eda</td>\n",
       "        <td>Datavetenskap</td>\n",
       "    </tr>\n",
       "    <tr>\n",
       "        <td>edi</td>\n",
       "        <td>Informationsteori</td>\n",
       "    </tr>\n",
       "    <tr>\n",
       "        <td>eem</td>\n",
       "        <td>Elektrisk mätteknik</td>\n",
       "    </tr>\n",
       "    <tr>\n",
       "        <td>eie</td>\n",
       "        <td>Industriell elektroteknik och automation</td>\n",
       "    </tr>\n",
       "</table>"
      ],
      "text/plain": [
       "[('eda', 'Datavetenskap'),\n",
       " ('edi', 'Informationsteori'),\n",
       " ('eem', 'Elektrisk mätteknik'),\n",
       " ('eie', 'Industriell elektroteknik och automation')]"
      ]
     },
     "execution_count": 4,
     "metadata": {},
     "output_type": "execute_result"
    }
   ],
   "source": [
    "%%sql\n",
    "SELECT  *\n",
    "FROM    departments\n",
    "LIMIT   4"
   ]
  },
  {
   "cell_type": "code",
   "execution_count": 5,
   "metadata": {},
   "outputs": [
    {
     "name": "stdout",
     "output_type": "stream",
     "text": [
      " * sqlite:///lab1.sqlite\n",
      "Done.\n"
     ]
    },
    {
     "data": {
      "text/html": [
       "<table>\n",
       "    <tr>\n",
       "        <th>course_code</th>\n",
       "        <th>course_name</th>\n",
       "        <th>department_code</th>\n",
       "        <th>level</th>\n",
       "        <th>credits</th>\n",
       "    </tr>\n",
       "    <tr>\n",
       "        <td>EDA016</td>\n",
       "        <td>Programmeringsteknik</td>\n",
       "        <td>eda</td>\n",
       "        <td>G1</td>\n",
       "        <td>7.5</td>\n",
       "    </tr>\n",
       "    <tr>\n",
       "        <td>EDA031</td>\n",
       "        <td>C++ - programmering</td>\n",
       "        <td>eda</td>\n",
       "        <td>G2</td>\n",
       "        <td>7.5</td>\n",
       "    </tr>\n",
       "    <tr>\n",
       "        <td>EDA040</td>\n",
       "        <td>Realtidsprogrammering</td>\n",
       "        <td>eda</td>\n",
       "        <td>G2</td>\n",
       "        <td>6.0</td>\n",
       "    </tr>\n",
       "    <tr>\n",
       "        <td>EDA050</td>\n",
       "        <td>Operativsystem</td>\n",
       "        <td>eda</td>\n",
       "        <td>G2</td>\n",
       "        <td>4.5</td>\n",
       "    </tr>\n",
       "</table>"
      ],
      "text/plain": [
       "[('EDA016', 'Programmeringsteknik', 'eda', 'G1', 7.5),\n",
       " ('EDA031', 'C++ - programmering', 'eda', 'G2', 7.5),\n",
       " ('EDA040', 'Realtidsprogrammering', 'eda', 'G2', 6.0),\n",
       " ('EDA050', 'Operativsystem', 'eda', 'G2', 4.5)]"
      ]
     },
     "execution_count": 5,
     "metadata": {},
     "output_type": "execute_result"
    }
   ],
   "source": [
    "%%sql\n",
    "SELECT  *\n",
    "FROM    courses\n",
    "LIMIT   4"
   ]
  },
  {
   "cell_type": "code",
   "execution_count": 6,
   "metadata": {},
   "outputs": [
    {
     "name": "stdout",
     "output_type": "stream",
     "text": [
      " * sqlite:///lab1.sqlite\n",
      "Done.\n"
     ]
    },
    {
     "data": {
      "text/html": [
       "<table>\n",
       "    <tr>\n",
       "        <th>ssn</th>\n",
       "        <th>course_code</th>\n",
       "        <th>grade</th>\n",
       "    </tr>\n",
       "    <tr>\n",
       "        <td>950705-2308</td>\n",
       "        <td>EITN35</td>\n",
       "        <td>5</td>\n",
       "    </tr>\n",
       "    <tr>\n",
       "        <td>950705-2308</td>\n",
       "        <td>ESS050</td>\n",
       "        <td>3</td>\n",
       "    </tr>\n",
       "    <tr>\n",
       "        <td>950705-2308</td>\n",
       "        <td>ETIN70</td>\n",
       "        <td>4</td>\n",
       "    </tr>\n",
       "    <tr>\n",
       "        <td>950705-2308</td>\n",
       "        <td>FMA140</td>\n",
       "        <td>4</td>\n",
       "    </tr>\n",
       "</table>"
      ],
      "text/plain": [
       "[('950705-2308', 'EITN35', 5),\n",
       " ('950705-2308', 'ESS050', 3),\n",
       " ('950705-2308', 'ETIN70', 4),\n",
       " ('950705-2308', 'FMA140', 4)]"
      ]
     },
     "execution_count": 6,
     "metadata": {},
     "output_type": "execute_result"
    }
   ],
   "source": [
    "%%sql\n",
    "SELECT  *\n",
    "FROM    taken_courses\n",
    "LIMIT   4"
   ]
  },
  {
   "cell_type": "markdown",
   "metadata": {},
   "source": [
    "If you inadvertently change the contents of the tables, you can always recreate the them with the following command (it must be run at the command line):"
   ]
  },
  {
   "cell_type": "markdown",
   "metadata": {},
   "source": [
    "```sh\n",
    "$ sqlite3 lab1.sqlite < lab1-setup.sql\n",
    "```\n"
   ]
  },
  {
   "cell_type": "markdown",
   "metadata": {},
   "source": [
    "--------------------------------\n",
    "Jump to [next REVIEW problem](#problem_5)\n",
    "--------------------------------\n",
    "\n",
    "<a id='problem_1'></a>\n",
    "\n",
    "## Problem 1 (practice)\n",
    "\n",
    "What are the names (first name and last name) of all the students?"
   ]
  },
  {
   "cell_type": "code",
   "execution_count": 8,
   "metadata": {},
   "outputs": [
    {
     "name": "stdout",
     "output_type": "stream",
     "text": [
      " * sqlite:///lab1.sqlite\n",
      "Done.\n"
     ]
    },
    {
     "data": {
      "text/html": [
       "<table>\n",
       "    <tr>\n",
       "        <th>first_name</th>\n",
       "        <th>last_name</th>\n",
       "    </tr>\n",
       "    <tr>\n",
       "        <td>Anna</td>\n",
       "        <td>Johansson</td>\n",
       "    </tr>\n",
       "    <tr>\n",
       "        <td>Anna</td>\n",
       "        <td>Johansson</td>\n",
       "    </tr>\n",
       "    <tr>\n",
       "        <td>Eva</td>\n",
       "        <td>Alm</td>\n",
       "    </tr>\n",
       "    <tr>\n",
       "        <td>Eva</td>\n",
       "        <td>Nilsson</td>\n",
       "    </tr>\n",
       "    <tr>\n",
       "        <td>Elaine</td>\n",
       "        <td>Robertson</td>\n",
       "    </tr>\n",
       "    <tr>\n",
       "        <td>Maria</td>\n",
       "        <td>Nordman</td>\n",
       "    </tr>\n",
       "    <tr>\n",
       "        <td>Helena</td>\n",
       "        <td>Troberg</td>\n",
       "    </tr>\n",
       "    <tr>\n",
       "        <td>Lotta</td>\n",
       "        <td>Emanuelsson</td>\n",
       "    </tr>\n",
       "    <tr>\n",
       "        <td>Anna</td>\n",
       "        <td>Nyström</td>\n",
       "    </tr>\n",
       "    <tr>\n",
       "        <td>Maria</td>\n",
       "        <td>Andersson</td>\n",
       "    </tr>\n",
       "</table>"
      ],
      "text/plain": [
       "[('Anna', 'Johansson'),\n",
       " ('Anna', 'Johansson'),\n",
       " ('Eva', 'Alm'),\n",
       " ('Eva', 'Nilsson'),\n",
       " ('Elaine', 'Robertson'),\n",
       " ('Maria', 'Nordman'),\n",
       " ('Helena', 'Troberg'),\n",
       " ('Lotta', 'Emanuelsson'),\n",
       " ('Anna', 'Nyström'),\n",
       " ('Maria', 'Andersson')]"
      ]
     },
     "execution_count": 8,
     "metadata": {},
     "output_type": "execute_result"
    }
   ],
   "source": [
    "%%sql\n",
    "select first_name, last_name\n",
    "from students\n",
    "limit 10"
   ]
  },
  {
   "cell_type": "markdown",
   "metadata": {},
   "source": [
    "Now sort the names, first by last name and then by first name:"
   ]
  },
  {
   "cell_type": "code",
   "execution_count": 9,
   "metadata": {
    "attributes": {
     "classes": [
      "clear"
     ],
     "id": ""
    }
   },
   "outputs": [
    {
     "name": "stdout",
     "output_type": "stream",
     "text": [
      " * sqlite:///lab1.sqlite\n",
      "Done.\n"
     ]
    },
    {
     "data": {
      "text/html": [
       "<table>\n",
       "    <tr>\n",
       "        <th>first_name</th>\n",
       "        <th>last_name</th>\n",
       "    </tr>\n",
       "    <tr>\n",
       "        <td>Daniel</td>\n",
       "        <td>Ahlman</td>\n",
       "    </tr>\n",
       "    <tr>\n",
       "        <td>Eva</td>\n",
       "        <td>Alm</td>\n",
       "    </tr>\n",
       "    <tr>\n",
       "        <td>Martin</td>\n",
       "        <td>Alm</td>\n",
       "    </tr>\n",
       "    <tr>\n",
       "        <td>Erik</td>\n",
       "        <td>Andersson</td>\n",
       "    </tr>\n",
       "    <tr>\n",
       "        <td>Erik</td>\n",
       "        <td>Andersson</td>\n",
       "    </tr>\n",
       "    <tr>\n",
       "        <td>Maria</td>\n",
       "        <td>Andersson</td>\n",
       "    </tr>\n",
       "    <tr>\n",
       "        <td>Niklas</td>\n",
       "        <td>Andersson</td>\n",
       "    </tr>\n",
       "    <tr>\n",
       "        <td>Märit</td>\n",
       "        <td>Aspegren</td>\n",
       "    </tr>\n",
       "    <tr>\n",
       "        <td>Daniel</td>\n",
       "        <td>Axelsson</td>\n",
       "    </tr>\n",
       "    <tr>\n",
       "        <td>Henrik</td>\n",
       "        <td>Berg</td>\n",
       "    </tr>\n",
       "</table>"
      ],
      "text/plain": [
       "[('Daniel', 'Ahlman'),\n",
       " ('Eva', 'Alm'),\n",
       " ('Martin', 'Alm'),\n",
       " ('Erik', 'Andersson'),\n",
       " ('Erik', 'Andersson'),\n",
       " ('Maria', 'Andersson'),\n",
       " ('Niklas', 'Andersson'),\n",
       " ('Märit', 'Aspegren'),\n",
       " ('Daniel', 'Axelsson'),\n",
       " ('Henrik', 'Berg')]"
      ]
     },
     "execution_count": 9,
     "metadata": {},
     "output_type": "execute_result"
    }
   ],
   "source": [
    "%%sql\n",
    "select first_name, last_name\n",
    "from students\n",
    "order by last_name, first_name\n",
    "limit 10"
   ]
  },
  {
   "cell_type": "markdown",
   "metadata": {},
   "source": [
    "When you get it to work, experiment by listing only the 10 first students (alphabetically), then try to list only students 11-20, etc.:"
   ]
  },
  {
   "cell_type": "code",
   "execution_count": 11,
   "metadata": {
    "attributes": {
     "classes": [
      "clear"
     ],
     "id": ""
    }
   },
   "outputs": [
    {
     "name": "stdout",
     "output_type": "stream",
     "text": [
      " * sqlite:///lab1.sqlite\n",
      "Done.\n"
     ]
    },
    {
     "data": {
      "text/html": [
       "<table>\n",
       "    <tr>\n",
       "        <th>first_name</th>\n",
       "        <th>last_name</th>\n",
       "    </tr>\n",
       "    <tr>\n",
       "        <td>Lisa</td>\n",
       "        <td>Berg</td>\n",
       "    </tr>\n",
       "    <tr>\n",
       "        <td>Lotta</td>\n",
       "        <td>Bergman</td>\n",
       "    </tr>\n",
       "    <tr>\n",
       "        <td>Johan</td>\n",
       "        <td>Brattberg</td>\n",
       "    </tr>\n",
       "    <tr>\n",
       "        <td>Roger</td>\n",
       "        <td>Brorsson</td>\n",
       "    </tr>\n",
       "    <tr>\n",
       "        <td>David</td>\n",
       "        <td>Carlsson</td>\n",
       "    </tr>\n",
       "    <tr>\n",
       "        <td>Susanne</td>\n",
       "        <td>Dahl</td>\n",
       "    </tr>\n",
       "    <tr>\n",
       "        <td>Bo</td>\n",
       "        <td>Ek</td>\n",
       "    </tr>\n",
       "    <tr>\n",
       "        <td>Bo</td>\n",
       "        <td>Ek</td>\n",
       "    </tr>\n",
       "    <tr>\n",
       "        <td>Bo</td>\n",
       "        <td>Ek</td>\n",
       "    </tr>\n",
       "    <tr>\n",
       "        <td>Karolin</td>\n",
       "        <td>Ek</td>\n",
       "    </tr>\n",
       "</table>"
      ],
      "text/plain": [
       "[('Lisa', 'Berg'),\n",
       " ('Lotta', 'Bergman'),\n",
       " ('Johan', 'Brattberg'),\n",
       " ('Roger', 'Brorsson'),\n",
       " ('David', 'Carlsson'),\n",
       " ('Susanne', 'Dahl'),\n",
       " ('Bo', 'Ek'),\n",
       " ('Bo', 'Ek'),\n",
       " ('Bo', 'Ek'),\n",
       " ('Karolin', 'Ek')]"
      ]
     },
     "execution_count": 11,
     "metadata": {},
     "output_type": "execute_result"
    }
   ],
   "source": [
    "%%sql\n",
    "select first_name, last_name\n",
    "from students\n",
    "order by last_name, first_name\n",
    "limit 10\n",
    "offset 10"
   ]
  },
  {
   "cell_type": "markdown",
   "metadata": {},
   "source": [
    "<a id='problem_2'></a>\n",
    "\n",
    "## Problem 2 (practice)\n",
    "\n",
    "What are the names of the students who were born in 1985?"
   ]
  },
  {
   "cell_type": "code",
   "execution_count": 16,
   "metadata": {
    "attributes": {
     "classes": [
      "clear"
     ],
     "id": ""
    }
   },
   "outputs": [
    {
     "name": "stdout",
     "output_type": "stream",
     "text": [
      " * sqlite:///lab1.sqlite\n",
      "Done.\n"
     ]
    },
    {
     "data": {
      "text/html": [
       "<table>\n",
       "    <tr>\n",
       "        <th>first_name</th>\n",
       "        <th>last_name</th>\n",
       "        <th>ssn</th>\n",
       "    </tr>\n",
       "    <tr>\n",
       "        <td>Ulrika</td>\n",
       "        <td>Jonsson</td>\n",
       "        <td>850706-2762</td>\n",
       "    </tr>\n",
       "    <tr>\n",
       "        <td>Bo</td>\n",
       "        <td>Ek</td>\n",
       "        <td>850819-2139</td>\n",
       "    </tr>\n",
       "    <tr>\n",
       "        <td>Filip</td>\n",
       "        <td>Persson</td>\n",
       "        <td>850517-2597</td>\n",
       "    </tr>\n",
       "    <tr>\n",
       "        <td>Henrik</td>\n",
       "        <td>Berg</td>\n",
       "        <td>850208-1213</td>\n",
       "    </tr>\n",
       "</table>"
      ],
      "text/plain": [
       "[('Ulrika', 'Jonsson', '850706-2762'),\n",
       " ('Bo', 'Ek', '850819-2139'),\n",
       " ('Filip', 'Persson', '850517-2597'),\n",
       " ('Henrik', 'Berg', '850208-1213')]"
      ]
     },
     "execution_count": 16,
     "metadata": {},
     "output_type": "execute_result"
    }
   ],
   "source": [
    "%%sql\n",
    "select first_name, last_name, ssn\n",
    "from students\n",
    "where ssn like \"85%\""
   ]
  },
  {
   "cell_type": "markdown",
   "metadata": {},
   "source": [
    "Hint: the `substr` function can be useful (it also goes by the name `substring`).\n",
    "\n",
    "\n",
    "<a id='problem_3'></a>\n",
    "\n",
    "## Problem 3 (practice)\n",
    "\n",
    "The penultimate digit in the social security number is even for females, and odd for males.\n",
    "List the first names of all female students in our database alphabetically."
   ]
  },
  {
   "cell_type": "code",
   "execution_count": null,
   "metadata": {
    "attributes": {
     "classes": [
      "clear"
     ],
     "id": ""
    }
   },
   "outputs": [],
   "source": [
    "%%sql\n"
   ]
  },
  {
   "cell_type": "markdown",
   "metadata": {},
   "source": [
    "Now try to output each name only once (so, no duplicates)."
   ]
  },
  {
   "cell_type": "code",
   "execution_count": null,
   "metadata": {
    "attributes": {
     "classes": [
      "clear"
     ],
     "id": ""
    }
   },
   "outputs": [],
   "source": [
    "%%sql\n"
   ]
  },
  {
   "cell_type": "markdown",
   "metadata": {},
   "source": [
    "<a id='problem_4'></a>\n",
    "\n",
    "## Problem 4 (practice)\n",
    "\n",
    "How many students are registered in the database?"
   ]
  },
  {
   "cell_type": "code",
   "execution_count": null,
   "metadata": {
    "attributes": {
     "classes": [
      "clear"
     ],
     "id": ""
    }
   },
   "outputs": [],
   "source": [
    "%%sql\n"
   ]
  },
  {
   "cell_type": "markdown",
   "metadata": {},
   "source": [
    "How many male students are there?"
   ]
  },
  {
   "cell_type": "code",
   "execution_count": null,
   "metadata": {
    "attributes": {
     "classes": [
      "clear"
     ],
     "id": ""
    }
   },
   "outputs": [],
   "source": [
    "%%sql\n"
   ]
  },
  {
   "cell_type": "markdown",
   "metadata": {},
   "source": [
    "Now try to output the number of distinct names in the listing of female students above, using `count`.\n",
    "It turns out that this is a bit tricky, we need to make sure we use the word `DISTINCT` in the right place (look carefully in the [documentation](https://sqlite.org/lang_aggfunc.html))."
   ]
  },
  {
   "cell_type": "code",
   "execution_count": null,
   "metadata": {
    "attributes": {
     "classes": [
      "clear"
     ],
     "id": ""
    }
   },
   "outputs": [],
   "source": [
    "%%sql\n"
   ]
  },
  {
   "cell_type": "markdown",
   "metadata": {},
   "source": [
    "<a id='problem_5'></a>\n",
    "\n",
    "## Problem 5 -- REVIEW\n",
    "\n",
    "How many courses are there for each level (`G1`, `G2`, and `A`)?"
   ]
  },
  {
   "cell_type": "code",
   "execution_count": 18,
   "metadata": {
    "attributes": {
     "classes": [
      "clear"
     ],
     "id": ""
    }
   },
   "outputs": [
    {
     "name": "stdout",
     "output_type": "stream",
     "text": [
      " * sqlite:///lab1.sqlite\n",
      "Done.\n"
     ]
    },
    {
     "data": {
      "text/html": [
       "<table>\n",
       "    <tr>\n",
       "        <th>level</th>\n",
       "        <th>count()</th>\n",
       "    </tr>\n",
       "    <tr>\n",
       "        <td>A</td>\n",
       "        <td>87</td>\n",
       "    </tr>\n",
       "    <tr>\n",
       "        <td>G1</td>\n",
       "        <td>31</td>\n",
       "    </tr>\n",
       "    <tr>\n",
       "        <td>G2</td>\n",
       "        <td>60</td>\n",
       "    </tr>\n",
       "</table>"
      ],
      "text/plain": [
       "[('A', 87), ('G1', 31), ('G2', 60)]"
      ]
     },
     "execution_count": 18,
     "metadata": {},
     "output_type": "execute_result"
    }
   ],
   "source": [
    "%%sql\n",
    "select level, count()\n",
    "from courses\n",
    "group by level"
   ]
  },
  {
   "cell_type": "markdown",
   "metadata": {},
   "source": [
    "For each level, how many courses give more than 7.5 HP?"
   ]
  },
  {
   "cell_type": "code",
   "execution_count": 20,
   "metadata": {
    "attributes": {
     "classes": [
      "clear"
     ],
     "id": ""
    }
   },
   "outputs": [
    {
     "name": "stdout",
     "output_type": "stream",
     "text": [
      " * sqlite:///lab1.sqlite\n",
      "Done.\n"
     ]
    },
    {
     "data": {
      "text/html": [
       "<table>\n",
       "    <tr>\n",
       "        <th>level</th>\n",
       "        <th>count()</th>\n",
       "    </tr>\n",
       "    <tr>\n",
       "        <td>A</td>\n",
       "        <td>3</td>\n",
       "    </tr>\n",
       "    <tr>\n",
       "        <td>G1</td>\n",
       "        <td>6</td>\n",
       "    </tr>\n",
       "    <tr>\n",
       "        <td>G2</td>\n",
       "        <td>7</td>\n",
       "    </tr>\n",
       "</table>"
      ],
      "text/plain": [
       "[('A', 3), ('G1', 6), ('G2', 7)]"
      ]
     },
     "execution_count": 20,
     "metadata": {},
     "output_type": "execute_result"
    }
   ],
   "source": [
    "%%sql\n",
    "select level, count()\n",
    "from courses\n",
    "where credits > 7.5\n",
    "group by level"
   ]
  },
  {
   "cell_type": "markdown",
   "metadata": {},
   "source": [
    "Jump to [next REVIEW problem](#problem_7)\n",
    "\n",
    "<a id='problem_6'></a>\n",
    "\n",
    "## Problem 6 (practice)\n",
    "\n",
    "In the next few queries, we'll look at the results of the student with the social security number 910101-1234 -- to make things _a lot_ easier, start by creating a `VIEW` with all his results."
   ]
  },
  {
   "cell_type": "code",
   "execution_count": null,
   "metadata": {
    "attributes": {
     "classes": [
      "clear"
     ],
     "id": ""
    }
   },
   "outputs": [],
   "source": [
    "%%sql\n",
    "DROP VIEW IF EXISTS ...;\n",
    "CREATE VIEW ... AS"
   ]
  },
  {
   "cell_type": "markdown",
   "metadata": {},
   "source": [
    "Make sure the view contains all data pertinent to the student in question (it will make the following queries very simple).\n",
    "\n",
    "Which courses (course codes only) have been taken by the student?"
   ]
  },
  {
   "cell_type": "code",
   "execution_count": null,
   "metadata": {
    "attributes": {
     "classes": [
      "clear"
     ],
     "id": ""
    }
   },
   "outputs": [],
   "source": [
    "%%sql\n"
   ]
  },
  {
   "cell_type": "markdown",
   "metadata": {},
   "source": [
    "What are the names of these courses, and how many credits do they give?"
   ]
  },
  {
   "cell_type": "code",
   "execution_count": null,
   "metadata": {
    "attributes": {
     "classes": [
      "clear"
     ],
     "id": ""
    }
   },
   "outputs": [],
   "source": [
    "%%sql\n"
   ]
  },
  {
   "cell_type": "markdown",
   "metadata": {},
   "source": [
    "How many credits has the student taken?"
   ]
  },
  {
   "cell_type": "code",
   "execution_count": null,
   "metadata": {
    "attributes": {
     "classes": [
      "clear"
     ],
     "id": ""
    }
   },
   "outputs": [],
   "source": [
    "%%sql\n"
   ]
  },
  {
   "cell_type": "markdown",
   "metadata": {},
   "source": [
    "What is the student’s grade average?\n",
    "It turns out that there are actually (at least) two different averages at play here:\n",
    "\n",
    "+ the unweighted average, i.e., just the average of all the students grades (no matter how many credits each course gives), and\n",
    "\n",
    "+ the [weighted average](https://en.wikipedia.org/wiki/Weighted_arithmetic_mean), where we use the credits for a course as a weight.\n",
    "\n",
    "First the unweighted average:"
   ]
  },
  {
   "cell_type": "code",
   "execution_count": null,
   "metadata": {
    "attributes": {
     "classes": [
      "clear"
     ],
     "id": ""
    }
   },
   "outputs": [],
   "source": [
    "%%sql\n"
   ]
  },
  {
   "cell_type": "markdown",
   "metadata": {},
   "source": [
    "And then the weighted average (feel free to ask me about this during QA sessions, if you get stuck):"
   ]
  },
  {
   "cell_type": "code",
   "execution_count": null,
   "metadata": {
    "attributes": {
     "classes": [
      "clear"
     ],
     "id": ""
    }
   },
   "outputs": [],
   "source": [
    "%%sql\n"
   ]
  },
  {
   "cell_type": "markdown",
   "metadata": {},
   "source": [
    "Hint: If you've created a proper view above, we'll get a 'table' with one row for each course the student has passed, and each row will contain information about grades and credits for the passed course.\n",
    "If we use arithmetic operations in a select statement, and then use an aggregate function around that operation, we'll apply the aggregate function to each value the operation returns (so, e.g., a `sum` over a product will be a scalar product).\n",
    "\n",
    "Now drop the view:"
   ]
  },
  {
   "cell_type": "code",
   "execution_count": null,
   "metadata": {
    "attributes": {
     "classes": [
      "clear"
     ],
     "id": ""
    }
   },
   "outputs": [],
   "source": [
    "%%sql\n"
   ]
  },
  {
   "cell_type": "markdown",
   "metadata": {},
   "source": [
    "<a id='problem_7'></a>\n",
    "\n",
    "## Problem 7 - REVIEW\n",
    "\n",
    "For the five departments which offers the most total credits (for its courses in this database) -- output the name of the department, and the total number of offered credits:"
   ]
  },
  {
   "cell_type": "code",
   "execution_count": 55,
   "metadata": {
    "attributes": {
     "classes": [
      "clear"
     ],
     "id": ""
    }
   },
   "outputs": [
    {
     "name": "stdout",
     "output_type": "stream",
     "text": [
      " * sqlite:///lab1.sqlite\n",
      "Done.\n"
     ]
    },
    {
     "data": {
      "text/html": [
       "<table>\n",
       "    <tr>\n",
       "        <th>Department name</th>\n",
       "        <th>Total amount of credits</th>\n",
       "    </tr>\n",
       "    <tr>\n",
       "        <td>Elektro- och informationsteknik</td>\n",
       "        <td>332.0</td>\n",
       "    </tr>\n",
       "    <tr>\n",
       "        <td>Datavetenskap</td>\n",
       "        <td>216.0</td>\n",
       "    </tr>\n",
       "    <tr>\n",
       "        <td>Matematik</td>\n",
       "        <td>160.0</td>\n",
       "    </tr>\n",
       "    <tr>\n",
       "        <td>Språk och litteraturcentrum</td>\n",
       "        <td>106.5</td>\n",
       "    </tr>\n",
       "    <tr>\n",
       "        <td>Matematisk statistik</td>\n",
       "        <td>84.0</td>\n",
       "    </tr>\n",
       "</table>"
      ],
      "text/plain": [
       "[('Elektro- och informationsteknik', 332.0),\n",
       " ('Datavetenskap', 216.0),\n",
       " ('Matematik', 160.0),\n",
       " ('Språk och litteraturcentrum', 106.5),\n",
       " ('Matematisk statistik', 84.0)]"
      ]
     },
     "execution_count": 55,
     "metadata": {},
     "output_type": "execute_result"
    }
   ],
   "source": [
    "%%sql\n",
    "with \n",
    "    department_credits(department_code, total_credits) as(\n",
    "    select department_code, sum(credits)\n",
    "    from courses\n",
    "    group by department_code\n",
    "    )\n",
    "\n",
    "select department_name as \"Department name\", total_credits as \"Total amount of credits\"\n",
    "from department_credits\n",
    "join departments\n",
    "using (department_code)\n",
    "order by -total_credits\n",
    "limit 5"
   ]
  },
  {
   "cell_type": "markdown",
   "metadata": {},
   "source": [
    "Jump to [next REVIEW problem](#problem_8)\n",
    "\n",
    "<a id='problem_8'></a>\n",
    "\n",
    "## Problem 8 - REVIEW\n",
    "\n",
    "Which students (`ssn` and full name) have taken 0 credits? This problem can be solved in several ways, first do it with an outer join:"
   ]
  },
  {
   "cell_type": "code",
   "execution_count": 59,
   "metadata": {
    "attributes": {
     "classes": [
      "clear"
     ],
     "id": ""
    }
   },
   "outputs": [
    {
     "name": "stdout",
     "output_type": "stream",
     "text": [
      " * sqlite:///lab1.sqlite\n",
      "Done.\n"
     ]
    },
    {
     "data": {
      "text/html": [
       "<table>\n",
       "    <tr>\n",
       "        <th>ssn</th>\n",
       "        <th>first_name</th>\n",
       "        <th>last_name</th>\n",
       "        <th>Total credits achieved</th>\n",
       "        <th>count()</th>\n",
       "    </tr>\n",
       "    <tr>\n",
       "        <td>850517-2597</td>\n",
       "        <td>Filip</td>\n",
       "        <td>Persson</td>\n",
       "        <td>None</td>\n",
       "        <td>1</td>\n",
       "    </tr>\n",
       "    <tr>\n",
       "        <td>870909-3367</td>\n",
       "        <td>Caroline</td>\n",
       "        <td>Olsson</td>\n",
       "        <td>None</td>\n",
       "        <td>1</td>\n",
       "    </tr>\n",
       "    <tr>\n",
       "        <td>880206-1915</td>\n",
       "        <td>Joakim</td>\n",
       "        <td>Hall</td>\n",
       "        <td>None</td>\n",
       "        <td>1</td>\n",
       "    </tr>\n",
       "    <tr>\n",
       "        <td>891007-3091</td>\n",
       "        <td>Johan</td>\n",
       "        <td>Lind</td>\n",
       "        <td>None</td>\n",
       "        <td>1</td>\n",
       "    </tr>\n",
       "    <tr>\n",
       "        <td>891220-1393</td>\n",
       "        <td>Erik</td>\n",
       "        <td>Andersson</td>\n",
       "        <td>None</td>\n",
       "        <td>1</td>\n",
       "    </tr>\n",
       "    <tr>\n",
       "        <td>900129-3374</td>\n",
       "        <td>Henrik</td>\n",
       "        <td>Gustavsson</td>\n",
       "        <td>None</td>\n",
       "        <td>1</td>\n",
       "    </tr>\n",
       "    <tr>\n",
       "        <td>900313-2257</td>\n",
       "        <td>Erik</td>\n",
       "        <td>Andersson</td>\n",
       "        <td>None</td>\n",
       "        <td>1</td>\n",
       "    </tr>\n",
       "    <tr>\n",
       "        <td>911015-3758</td>\n",
       "        <td>Jonathan</td>\n",
       "        <td>Jönsson</td>\n",
       "        <td>None</td>\n",
       "        <td>1</td>\n",
       "    </tr>\n",
       "    <tr>\n",
       "        <td>931225-3158</td>\n",
       "        <td>Bo</td>\n",
       "        <td>Ek</td>\n",
       "        <td>None</td>\n",
       "        <td>1</td>\n",
       "    </tr>\n",
       "    <tr>\n",
       "        <td>950125-1153</td>\n",
       "        <td>Magnus</td>\n",
       "        <td>Hultgren</td>\n",
       "        <td>None</td>\n",
       "        <td>1</td>\n",
       "    </tr>\n",
       "    <tr>\n",
       "        <td>950829-1848</td>\n",
       "        <td>Anna</td>\n",
       "        <td>Nyström</td>\n",
       "        <td>None</td>\n",
       "        <td>1</td>\n",
       "    </tr>\n",
       "</table>"
      ],
      "text/plain": [
       "[('850517-2597', 'Filip', 'Persson', None, 1),\n",
       " ('870909-3367', 'Caroline', 'Olsson', None, 1),\n",
       " ('880206-1915', 'Joakim', 'Hall', None, 1),\n",
       " ('891007-3091', 'Johan', 'Lind', None, 1),\n",
       " ('891220-1393', 'Erik', 'Andersson', None, 1),\n",
       " ('900129-3374', 'Henrik', 'Gustavsson', None, 1),\n",
       " ('900313-2257', 'Erik', 'Andersson', None, 1),\n",
       " ('911015-3758', 'Jonathan', 'Jönsson', None, 1),\n",
       " ('931225-3158', 'Bo', 'Ek', None, 1),\n",
       " ('950125-1153', 'Magnus', 'Hultgren', None, 1),\n",
       " ('950829-1848', 'Anna', 'Nyström', None, 1)]"
      ]
     },
     "execution_count": 59,
     "metadata": {},
     "output_type": "execute_result"
    }
   ],
   "source": [
    "%%sql\n",
    "select ssn, first_name, last_name, sum(credits) as \"Total credits achieved\"\n",
    "from students\n",
    "left outer join taken_courses using (ssn)\n",
    "left outer join courses using (course_code)\n",
    "group by ssn\n",
    "having \"Total credits achieved\" is NULL"
   ]
  },
  {
   "cell_type": "markdown",
   "metadata": {},
   "source": [
    "Now do the same thing using a subquery:"
   ]
  },
  {
   "cell_type": "code",
   "execution_count": 60,
   "metadata": {
    "attributes": {
     "classes": [
      "clear"
     ],
     "id": ""
    }
   },
   "outputs": [
    {
     "name": "stdout",
     "output_type": "stream",
     "text": [
      " * sqlite:///lab1.sqlite\n",
      "Done.\n"
     ]
    },
    {
     "data": {
      "text/html": [
       "<table>\n",
       "    <tr>\n",
       "        <th>ssn</th>\n",
       "        <th>first_name</th>\n",
       "        <th>last_name</th>\n",
       "    </tr>\n",
       "    <tr>\n",
       "        <td>950829-1848</td>\n",
       "        <td>Anna</td>\n",
       "        <td>Nyström</td>\n",
       "    </tr>\n",
       "    <tr>\n",
       "        <td>870909-3367</td>\n",
       "        <td>Caroline</td>\n",
       "        <td>Olsson</td>\n",
       "    </tr>\n",
       "    <tr>\n",
       "        <td>931225-3158</td>\n",
       "        <td>Bo</td>\n",
       "        <td>Ek</td>\n",
       "    </tr>\n",
       "    <tr>\n",
       "        <td>891220-1393</td>\n",
       "        <td>Erik</td>\n",
       "        <td>Andersson</td>\n",
       "    </tr>\n",
       "    <tr>\n",
       "        <td>900313-2257</td>\n",
       "        <td>Erik</td>\n",
       "        <td>Andersson</td>\n",
       "    </tr>\n",
       "    <tr>\n",
       "        <td>891007-3091</td>\n",
       "        <td>Johan</td>\n",
       "        <td>Lind</td>\n",
       "    </tr>\n",
       "    <tr>\n",
       "        <td>850517-2597</td>\n",
       "        <td>Filip</td>\n",
       "        <td>Persson</td>\n",
       "    </tr>\n",
       "    <tr>\n",
       "        <td>911015-3758</td>\n",
       "        <td>Jonathan</td>\n",
       "        <td>Jönsson</td>\n",
       "    </tr>\n",
       "    <tr>\n",
       "        <td>950125-1153</td>\n",
       "        <td>Magnus</td>\n",
       "        <td>Hultgren</td>\n",
       "    </tr>\n",
       "    <tr>\n",
       "        <td>880206-1915</td>\n",
       "        <td>Joakim</td>\n",
       "        <td>Hall</td>\n",
       "    </tr>\n",
       "    <tr>\n",
       "        <td>900129-3374</td>\n",
       "        <td>Henrik</td>\n",
       "        <td>Gustavsson</td>\n",
       "    </tr>\n",
       "</table>"
      ],
      "text/plain": [
       "[('950829-1848', 'Anna', 'Nyström'),\n",
       " ('870909-3367', 'Caroline', 'Olsson'),\n",
       " ('931225-3158', 'Bo', 'Ek'),\n",
       " ('891220-1393', 'Erik', 'Andersson'),\n",
       " ('900313-2257', 'Erik', 'Andersson'),\n",
       " ('891007-3091', 'Johan', 'Lind'),\n",
       " ('850517-2597', 'Filip', 'Persson'),\n",
       " ('911015-3758', 'Jonathan', 'Jönsson'),\n",
       " ('950125-1153', 'Magnus', 'Hultgren'),\n",
       " ('880206-1915', 'Joakim', 'Hall'),\n",
       " ('900129-3374', 'Henrik', 'Gustavsson')]"
      ]
     },
     "execution_count": 60,
     "metadata": {},
     "output_type": "execute_result"
    }
   ],
   "source": [
    "%%sql\n",
    "select ssn, first_name, last_name\n",
    "from students\n",
    "where ssn not in\n",
    "    (select distinct ssn\n",
    "    from taken_courses)"
   ]
  },
  {
   "cell_type": "markdown",
   "metadata": {},
   "source": [
    "Jump to [next REVIEW problem](#problem_9)\n",
    "\n",
    "<a id='problem_9'></a>\n",
    "\n",
    "## Problem 9 - REVIEW\n",
    "\n",
    "List the names and average grades of the 10 students with the highest grade average? You can use the unweighted average."
   ]
  },
  {
   "cell_type": "code",
   "execution_count": 64,
   "metadata": {
    "attributes": {
     "classes": [
      "clear"
     ],
     "id": ""
    }
   },
   "outputs": [
    {
     "name": "stdout",
     "output_type": "stream",
     "text": [
      " * sqlite:///lab1.sqlite\n",
      "Done.\n"
     ]
    },
    {
     "data": {
      "text/html": [
       "<table>\n",
       "    <tr>\n",
       "        <th>first_name</th>\n",
       "        <th>last_name</th>\n",
       "        <th>avg(grade)</th>\n",
       "    </tr>\n",
       "    <tr>\n",
       "        <td>Bo</td>\n",
       "        <td>Ek</td>\n",
       "        <td>4.35</td>\n",
       "    </tr>\n",
       "    <tr>\n",
       "        <td>Helena</td>\n",
       "        <td>Troberg</td>\n",
       "        <td>4.3076923076923075</td>\n",
       "    </tr>\n",
       "    <tr>\n",
       "        <td>Elaine</td>\n",
       "        <td>Robertson</td>\n",
       "        <td>4.235294117647059</td>\n",
       "    </tr>\n",
       "    <tr>\n",
       "        <td>Anna</td>\n",
       "        <td>Johansson</td>\n",
       "        <td>4.230769230769231</td>\n",
       "    </tr>\n",
       "    <tr>\n",
       "        <td>Ylva</td>\n",
       "        <td>Jacobsson</td>\n",
       "        <td>4.21875</td>\n",
       "    </tr>\n",
       "    <tr>\n",
       "        <td>Anna</td>\n",
       "        <td>Johansson</td>\n",
       "        <td>4.2</td>\n",
       "    </tr>\n",
       "    <tr>\n",
       "        <td>Mikael</td>\n",
       "        <td>Nilsson</td>\n",
       "        <td>4.173913043478261</td>\n",
       "    </tr>\n",
       "    <tr>\n",
       "        <td>Jakob</td>\n",
       "        <td>Malmberg</td>\n",
       "        <td>4.166666666666667</td>\n",
       "    </tr>\n",
       "    <tr>\n",
       "        <td>Maria</td>\n",
       "        <td>Andersson</td>\n",
       "        <td>4.157894736842105</td>\n",
       "    </tr>\n",
       "    <tr>\n",
       "        <td>Per-Erik</td>\n",
       "        <td>Pettersson</td>\n",
       "        <td>4.153846153846154</td>\n",
       "    </tr>\n",
       "</table>"
      ],
      "text/plain": [
       "[('Bo', 'Ek', 4.35),\n",
       " ('Helena', 'Troberg', 4.3076923076923075),\n",
       " ('Elaine', 'Robertson', 4.235294117647059),\n",
       " ('Anna', 'Johansson', 4.230769230769231),\n",
       " ('Ylva', 'Jacobsson', 4.21875),\n",
       " ('Anna', 'Johansson', 4.2),\n",
       " ('Mikael', 'Nilsson', 4.173913043478261),\n",
       " ('Jakob', 'Malmberg', 4.166666666666667),\n",
       " ('Maria', 'Andersson', 4.157894736842105),\n",
       " ('Per-Erik', 'Pettersson', 4.153846153846154)]"
      ]
     },
     "execution_count": 64,
     "metadata": {},
     "output_type": "execute_result"
    }
   ],
   "source": [
    "%%sql\n",
    "select first_name, last_name, avg(grade)\n",
    "from taken_courses\n",
    "join students using (ssn)\n",
    "group by ssn\n",
    "order by -avg(grade)\n",
    "limit 10"
   ]
  },
  {
   "cell_type": "markdown",
   "metadata": {},
   "source": [
    "Jump to [next REVIEW problem](#problem_10)\n",
    "\n",
    "<a id='problem_10'></a>\n",
    "\n",
    "## Problem 10 - REVIEW\n",
    "\n",
    "List the social security number and total number of credits for all students -- order by total credits, descending. Students with no credits should be included in the listing, with 0 credits (not `NULL`).\n",
    "\n",
    "Use an outer `JOIN` to solve the problem -- you might want to use the function `coalesce(v1, v2, ...)`; it returns the first value which is not `NULL`, so `coalesce(avg(grade), 0)` would give 0 if the were no grades (i.e., if `grade` were `NULL`), you can also try the `ifnull` function."
   ]
  },
  {
   "cell_type": "code",
   "execution_count": 83,
   "metadata": {
    "attributes": {
     "classes": [
      "clear"
     ],
     "id": ""
    }
   },
   "outputs": [
    {
     "name": "stdout",
     "output_type": "stream",
     "text": [
      " * sqlite:///lab1.sqlite\n",
      "Done.\n"
     ]
    },
    {
     "data": {
      "text/html": [
       "<table>\n",
       "    <tr>\n",
       "        <th>ssn</th>\n",
       "        <th>Total credits</th>\n",
       "    </tr>\n",
       "    <tr>\n",
       "        <td>951004-2346</td>\n",
       "        <td>350.0</td>\n",
       "    </tr>\n",
       "    <tr>\n",
       "        <td>880620-2564</td>\n",
       "        <td>348.5</td>\n",
       "    </tr>\n",
       "    <tr>\n",
       "        <td>910915-2068</td>\n",
       "        <td>338.0</td>\n",
       "    </tr>\n",
       "    <tr>\n",
       "        <td>920623-3258</td>\n",
       "        <td>334.0</td>\n",
       "    </tr>\n",
       "    <tr>\n",
       "        <td>921222-2113</td>\n",
       "        <td>332.0</td>\n",
       "    </tr>\n",
       "    <tr>\n",
       "        <td>890621-3057</td>\n",
       "        <td>295.5</td>\n",
       "    </tr>\n",
       "    <tr>\n",
       "        <td>920308-3854</td>\n",
       "        <td>289.0</td>\n",
       "    </tr>\n",
       "    <tr>\n",
       "        <td>930702-3582</td>\n",
       "        <td>288.5</td>\n",
       "    </tr>\n",
       "    <tr>\n",
       "        <td>921029-1995</td>\n",
       "        <td>268.5</td>\n",
       "    </tr>\n",
       "    <tr>\n",
       "        <td>920921-2499</td>\n",
       "        <td>267.5</td>\n",
       "    </tr>\n",
       "    <tr>\n",
       "        <td>891021-1287</td>\n",
       "        <td>267.0</td>\n",
       "    </tr>\n",
       "    <tr>\n",
       "        <td>900227-2369</td>\n",
       "        <td>262.5</td>\n",
       "    </tr>\n",
       "    <tr>\n",
       "        <td>870915-2742</td>\n",
       "        <td>254.0</td>\n",
       "    </tr>\n",
       "    <tr>\n",
       "        <td>880322-3951</td>\n",
       "        <td>250.5</td>\n",
       "    </tr>\n",
       "    <tr>\n",
       "        <td>910101-1234</td>\n",
       "        <td>249.5</td>\n",
       "    </tr>\n",
       "    <tr>\n",
       "        <td>911020-3538</td>\n",
       "        <td>241.5</td>\n",
       "    </tr>\n",
       "    <tr>\n",
       "        <td>931208-3605</td>\n",
       "        <td>229.5</td>\n",
       "    </tr>\n",
       "    <tr>\n",
       "        <td>940318-2373</td>\n",
       "        <td>223.0</td>\n",
       "    </tr>\n",
       "    <tr>\n",
       "        <td>900918-3999</td>\n",
       "        <td>216.0</td>\n",
       "    </tr>\n",
       "    <tr>\n",
       "        <td>890622-1928</td>\n",
       "        <td>205.0</td>\n",
       "    </tr>\n",
       "    <tr>\n",
       "        <td>901030-1895</td>\n",
       "        <td>192.0</td>\n",
       "    </tr>\n",
       "    <tr>\n",
       "        <td>930502-2040</td>\n",
       "        <td>189.0</td>\n",
       "    </tr>\n",
       "    <tr>\n",
       "        <td>911212-1746</td>\n",
       "        <td>181.0</td>\n",
       "    </tr>\n",
       "    <tr>\n",
       "        <td>920906-3371</td>\n",
       "        <td>174.0</td>\n",
       "    </tr>\n",
       "    <tr>\n",
       "        <td>950830-2637</td>\n",
       "        <td>174.0</td>\n",
       "    </tr>\n",
       "    <tr>\n",
       "        <td>931128-1333</td>\n",
       "        <td>171.5</td>\n",
       "    </tr>\n",
       "    <tr>\n",
       "        <td>890820-2496</td>\n",
       "        <td>170.0</td>\n",
       "    </tr>\n",
       "    <tr>\n",
       "        <td>850208-1213</td>\n",
       "        <td>166.5</td>\n",
       "    </tr>\n",
       "    <tr>\n",
       "        <td>940801-2971</td>\n",
       "        <td>161.5</td>\n",
       "    </tr>\n",
       "    <tr>\n",
       "        <td>881110-1272</td>\n",
       "        <td>154.5</td>\n",
       "    </tr>\n",
       "    <tr>\n",
       "        <td>861103-2438</td>\n",
       "        <td>153.0</td>\n",
       "    </tr>\n",
       "    <tr>\n",
       "        <td>860206-1065</td>\n",
       "        <td>151.0</td>\n",
       "    </tr>\n",
       "    <tr>\n",
       "        <td>930804-3050</td>\n",
       "        <td>148.0</td>\n",
       "    </tr>\n",
       "    <tr>\n",
       "        <td>860819-2864</td>\n",
       "        <td>140.5</td>\n",
       "    </tr>\n",
       "    <tr>\n",
       "        <td>900206-3735</td>\n",
       "        <td>139.0</td>\n",
       "    </tr>\n",
       "    <tr>\n",
       "        <td>881030-2772</td>\n",
       "        <td>133.0</td>\n",
       "    </tr>\n",
       "    <tr>\n",
       "        <td>940802-3861</td>\n",
       "        <td>123.0</td>\n",
       "    </tr>\n",
       "    <tr>\n",
       "        <td>940825-1934</td>\n",
       "        <td>117.5</td>\n",
       "    </tr>\n",
       "    <tr>\n",
       "        <td>931213-2824</td>\n",
       "        <td>111.0</td>\n",
       "    </tr>\n",
       "    <tr>\n",
       "        <td>951122-1048</td>\n",
       "        <td>110.0</td>\n",
       "    </tr>\n",
       "    <tr>\n",
       "        <td>910308-1826</td>\n",
       "        <td>83.0</td>\n",
       "    </tr>\n",
       "    <tr>\n",
       "        <td>850819-2139</td>\n",
       "        <td>76.5</td>\n",
       "    </tr>\n",
       "    <tr>\n",
       "        <td>891231-2554</td>\n",
       "        <td>76.0</td>\n",
       "    </tr>\n",
       "    <tr>\n",
       "        <td>860323-1071</td>\n",
       "        <td>70.5</td>\n",
       "    </tr>\n",
       "    <tr>\n",
       "        <td>900528-1540</td>\n",
       "        <td>64.5</td>\n",
       "    </tr>\n",
       "    <tr>\n",
       "        <td>910226-3409</td>\n",
       "        <td>63.0</td>\n",
       "    </tr>\n",
       "    <tr>\n",
       "        <td>891106-1277</td>\n",
       "        <td>60.5</td>\n",
       "    </tr>\n",
       "    <tr>\n",
       "        <td>930716-3933</td>\n",
       "        <td>60.0</td>\n",
       "    </tr>\n",
       "    <tr>\n",
       "        <td>890103-1256</td>\n",
       "        <td>52.5</td>\n",
       "    </tr>\n",
       "    <tr>\n",
       "        <td>941003-1225</td>\n",
       "        <td>52.5</td>\n",
       "    </tr>\n",
       "    <tr>\n",
       "        <td>950317-3520</td>\n",
       "        <td>43.5</td>\n",
       "    </tr>\n",
       "    <tr>\n",
       "        <td>950705-2308</td>\n",
       "        <td>37.5</td>\n",
       "    </tr>\n",
       "    <tr>\n",
       "        <td>920812-1857</td>\n",
       "        <td>37.0</td>\n",
       "    </tr>\n",
       "    <tr>\n",
       "        <td>950714-2190</td>\n",
       "        <td>32.5</td>\n",
       "    </tr>\n",
       "    <tr>\n",
       "        <td>900526-1450</td>\n",
       "        <td>31.0</td>\n",
       "    </tr>\n",
       "    <tr>\n",
       "        <td>850706-2762</td>\n",
       "        <td>30.0</td>\n",
       "    </tr>\n",
       "    <tr>\n",
       "        <td>910707-3787</td>\n",
       "        <td>28.5</td>\n",
       "    </tr>\n",
       "    <tr>\n",
       "        <td>931015-1271</td>\n",
       "        <td>22.5</td>\n",
       "    </tr>\n",
       "    <tr>\n",
       "        <td>920514-3433</td>\n",
       "        <td>22.0</td>\n",
       "    </tr>\n",
       "    <tr>\n",
       "        <td>950715-2090</td>\n",
       "        <td>7.5</td>\n",
       "    </tr>\n",
       "    <tr>\n",
       "        <td>930420-2833</td>\n",
       "        <td>4.0</td>\n",
       "    </tr>\n",
       "    <tr>\n",
       "        <td>850517-2597</td>\n",
       "        <td>0</td>\n",
       "    </tr>\n",
       "    <tr>\n",
       "        <td>870909-3367</td>\n",
       "        <td>0</td>\n",
       "    </tr>\n",
       "    <tr>\n",
       "        <td>880206-1915</td>\n",
       "        <td>0</td>\n",
       "    </tr>\n",
       "    <tr>\n",
       "        <td>891007-3091</td>\n",
       "        <td>0</td>\n",
       "    </tr>\n",
       "    <tr>\n",
       "        <td>891220-1393</td>\n",
       "        <td>0</td>\n",
       "    </tr>\n",
       "    <tr>\n",
       "        <td>900129-3374</td>\n",
       "        <td>0</td>\n",
       "    </tr>\n",
       "    <tr>\n",
       "        <td>900313-2257</td>\n",
       "        <td>0</td>\n",
       "    </tr>\n",
       "    <tr>\n",
       "        <td>911015-3758</td>\n",
       "        <td>0</td>\n",
       "    </tr>\n",
       "    <tr>\n",
       "        <td>931225-3158</td>\n",
       "        <td>0</td>\n",
       "    </tr>\n",
       "    <tr>\n",
       "        <td>950125-1153</td>\n",
       "        <td>0</td>\n",
       "    </tr>\n",
       "    <tr>\n",
       "        <td>950829-1848</td>\n",
       "        <td>0</td>\n",
       "    </tr>\n",
       "</table>"
      ],
      "text/plain": [
       "[('951004-2346', 350.0),\n",
       " ('880620-2564', 348.5),\n",
       " ('910915-2068', 338.0),\n",
       " ('920623-3258', 334.0),\n",
       " ('921222-2113', 332.0),\n",
       " ('890621-3057', 295.5),\n",
       " ('920308-3854', 289.0),\n",
       " ('930702-3582', 288.5),\n",
       " ('921029-1995', 268.5),\n",
       " ('920921-2499', 267.5),\n",
       " ('891021-1287', 267.0),\n",
       " ('900227-2369', 262.5),\n",
       " ('870915-2742', 254.0),\n",
       " ('880322-3951', 250.5),\n",
       " ('910101-1234', 249.5),\n",
       " ('911020-3538', 241.5),\n",
       " ('931208-3605', 229.5),\n",
       " ('940318-2373', 223.0),\n",
       " ('900918-3999', 216.0),\n",
       " ('890622-1928', 205.0),\n",
       " ('901030-1895', 192.0),\n",
       " ('930502-2040', 189.0),\n",
       " ('911212-1746', 181.0),\n",
       " ('920906-3371', 174.0),\n",
       " ('950830-2637', 174.0),\n",
       " ('931128-1333', 171.5),\n",
       " ('890820-2496', 170.0),\n",
       " ('850208-1213', 166.5),\n",
       " ('940801-2971', 161.5),\n",
       " ('881110-1272', 154.5),\n",
       " ('861103-2438', 153.0),\n",
       " ('860206-1065', 151.0),\n",
       " ('930804-3050', 148.0),\n",
       " ('860819-2864', 140.5),\n",
       " ('900206-3735', 139.0),\n",
       " ('881030-2772', 133.0),\n",
       " ('940802-3861', 123.0),\n",
       " ('940825-1934', 117.5),\n",
       " ('931213-2824', 111.0),\n",
       " ('951122-1048', 110.0),\n",
       " ('910308-1826', 83.0),\n",
       " ('850819-2139', 76.5),\n",
       " ('891231-2554', 76.0),\n",
       " ('860323-1071', 70.5),\n",
       " ('900528-1540', 64.5),\n",
       " ('910226-3409', 63.0),\n",
       " ('891106-1277', 60.5),\n",
       " ('930716-3933', 60.0),\n",
       " ('890103-1256', 52.5),\n",
       " ('941003-1225', 52.5),\n",
       " ('950317-3520', 43.5),\n",
       " ('950705-2308', 37.5),\n",
       " ('920812-1857', 37.0),\n",
       " ('950714-2190', 32.5),\n",
       " ('900526-1450', 31.0),\n",
       " ('850706-2762', 30.0),\n",
       " ('910707-3787', 28.5),\n",
       " ('931015-1271', 22.5),\n",
       " ('920514-3433', 22.0),\n",
       " ('950715-2090', 7.5),\n",
       " ('930420-2833', 4.0),\n",
       " ('850517-2597', 0),\n",
       " ('870909-3367', 0),\n",
       " ('880206-1915', 0),\n",
       " ('891007-3091', 0),\n",
       " ('891220-1393', 0),\n",
       " ('900129-3374', 0),\n",
       " ('900313-2257', 0),\n",
       " ('911015-3758', 0),\n",
       " ('931225-3158', 0),\n",
       " ('950125-1153', 0),\n",
       " ('950829-1848', 0)]"
      ]
     },
     "execution_count": 83,
     "metadata": {},
     "output_type": "execute_result"
    }
   ],
   "source": [
    "%%sql\n",
    "select ssn, coalesce(sum(credits), 0) as \"Total credits\"\n",
    "from students\n",
    "left outer join taken_courses using (ssn)\n",
    "left outer join courses using (course_code)\n",
    "group by ssn\n",
    "order by -\"Total credits\""
   ]
  },
  {
   "cell_type": "markdown",
   "metadata": {},
   "source": [
    "Jump to [next REVIEW problem](#problem_11)\n",
    "\n",
    "<a id='problem_11'></a>\n",
    "\n",
    "## Problem 11 - REVIEW\n",
    "\n",
    "Do all students have unique names (first name _and_ last name)? If not, show the full name and social security number for all students who have a namesake.\n",
    "\n",
    "As usual there are several ways of solving this, solve it using a `WITH`-statement where you create a 'table' with all duplicate names, and then:\n",
    "\n",
    "Use a `JOIN`:"
   ]
  },
  {
   "cell_type": "code",
   "execution_count": 174,
   "metadata": {
    "attributes": {
     "classes": [
      "clear"
     ],
     "id": ""
    }
   },
   "outputs": [
    {
     "name": "stdout",
     "output_type": "stream",
     "text": [
      " * sqlite:///lab1.sqlite\n",
      "Done.\n"
     ]
    },
    {
     "data": {
      "text/html": [
       "<table>\n",
       "    <tr>\n",
       "        <th>first_name</th>\n",
       "        <th>last_name</th>\n",
       "        <th>ssn</th>\n",
       "    </tr>\n",
       "    <tr>\n",
       "        <td>Anna</td>\n",
       "        <td>Johansson</td>\n",
       "        <td>930702-3582</td>\n",
       "    </tr>\n",
       "    <tr>\n",
       "        <td>Anna</td>\n",
       "        <td>Johansson</td>\n",
       "        <td>950705-2308</td>\n",
       "    </tr>\n",
       "    <tr>\n",
       "        <td>Bo</td>\n",
       "        <td>Ek</td>\n",
       "        <td>850819-2139</td>\n",
       "    </tr>\n",
       "    <tr>\n",
       "        <td>Bo</td>\n",
       "        <td>Ek</td>\n",
       "        <td>861103-2438</td>\n",
       "    </tr>\n",
       "    <tr>\n",
       "        <td>Bo</td>\n",
       "        <td>Ek</td>\n",
       "        <td>931225-3158</td>\n",
       "    </tr>\n",
       "    <tr>\n",
       "        <td>Erik</td>\n",
       "        <td>Andersson</td>\n",
       "        <td>891220-1393</td>\n",
       "    </tr>\n",
       "    <tr>\n",
       "        <td>Erik</td>\n",
       "        <td>Andersson</td>\n",
       "        <td>900313-2257</td>\n",
       "    </tr>\n",
       "</table>"
      ],
      "text/plain": [
       "[('Anna', 'Johansson', '930702-3582'),\n",
       " ('Anna', 'Johansson', '950705-2308'),\n",
       " ('Bo', 'Ek', '850819-2139'),\n",
       " ('Bo', 'Ek', '861103-2438'),\n",
       " ('Bo', 'Ek', '931225-3158'),\n",
       " ('Erik', 'Andersson', '891220-1393'),\n",
       " ('Erik', 'Andersson', '900313-2257')]"
      ]
     },
     "execution_count": 174,
     "metadata": {},
     "output_type": "execute_result"
    }
   ],
   "source": [
    "%%sql\n",
    "with duplicate_names(first_name, last_name, ssn) as(\n",
    "    select s1.first_name, s1.last_name, s1.ssn\n",
    "    from students as s1\n",
    "    inner join students as s2\n",
    "    on s1.first_name = s2.first_name and s1.last_name = s2.last_name\n",
    "    group by s1.ssn\n",
    "    having count() > 1\n",
    "    )\n",
    "\n",
    "select *\n",
    "from duplicate_names\n",
    "order by first_name, last_name"
   ]
  },
  {
   "cell_type": "markdown",
   "metadata": {},
   "source": [
    "Use a subquery:"
   ]
  },
  {
   "cell_type": "code",
   "execution_count": 178,
   "metadata": {
    "attributes": {
     "classes": [
      "clear"
     ],
     "id": ""
    }
   },
   "outputs": [
    {
     "name": "stdout",
     "output_type": "stream",
     "text": [
      " * sqlite:///lab1.sqlite\n",
      "Done.\n"
     ]
    },
    {
     "data": {
      "text/html": [
       "<table>\n",
       "    <tr>\n",
       "        <th>first_name</th>\n",
       "        <th>last_name</th>\n",
       "        <th>ssn</th>\n",
       "    </tr>\n",
       "    <tr>\n",
       "        <td>Anna</td>\n",
       "        <td>Johansson</td>\n",
       "        <td>930702-3582</td>\n",
       "    </tr>\n",
       "    <tr>\n",
       "        <td>Anna</td>\n",
       "        <td>Johansson</td>\n",
       "        <td>950705-2308</td>\n",
       "    </tr>\n",
       "    <tr>\n",
       "        <td>Bo</td>\n",
       "        <td>Ek</td>\n",
       "        <td>850819-2139</td>\n",
       "    </tr>\n",
       "    <tr>\n",
       "        <td>Bo</td>\n",
       "        <td>Ek</td>\n",
       "        <td>861103-2438</td>\n",
       "    </tr>\n",
       "    <tr>\n",
       "        <td>Bo</td>\n",
       "        <td>Ek</td>\n",
       "        <td>931225-3158</td>\n",
       "    </tr>\n",
       "    <tr>\n",
       "        <td>Erik</td>\n",
       "        <td>Andersson</td>\n",
       "        <td>891220-1393</td>\n",
       "    </tr>\n",
       "    <tr>\n",
       "        <td>Erik</td>\n",
       "        <td>Andersson</td>\n",
       "        <td>900313-2257</td>\n",
       "    </tr>\n",
       "</table>"
      ],
      "text/plain": [
       "[('Anna', 'Johansson', '930702-3582'),\n",
       " ('Anna', 'Johansson', '950705-2308'),\n",
       " ('Bo', 'Ek', '850819-2139'),\n",
       " ('Bo', 'Ek', '861103-2438'),\n",
       " ('Bo', 'Ek', '931225-3158'),\n",
       " ('Erik', 'Andersson', '891220-1393'),\n",
       " ('Erik', 'Andersson', '900313-2257')]"
      ]
     },
     "execution_count": 178,
     "metadata": {},
     "output_type": "execute_result"
    }
   ],
   "source": [
    "%%sql\n",
    "select first_name, last_name, ssn\n",
    "from students\n",
    "where ssn in \n",
    "    (select s1.ssn\n",
    "    from students as s1\n",
    "    inner join students as s2\n",
    "    on s1.first_name = s2.first_name and s1.last_name = s2.last_name\n",
    "    group by s1.ssn\n",
    "    having count() > 1\n",
    "    )\n",
    "order by first_name, last_name"
   ]
  }
 ],
 "metadata": {
  "kernelspec": {
   "display_name": "Python 3",
   "language": "python",
   "name": "python3"
  },
  "language_info": {
   "codemirror_mode": {
    "name": "ipython",
    "version": 3
   },
   "file_extension": ".py",
   "mimetype": "text/x-python",
   "name": "python",
   "nbconvert_exporter": "python",
   "pygments_lexer": "ipython3",
   "version": "3.7.6"
  }
 },
 "nbformat": 4,
 "nbformat_minor": 5
}
