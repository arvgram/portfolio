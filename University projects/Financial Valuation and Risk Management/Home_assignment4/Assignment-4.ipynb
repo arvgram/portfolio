{
 "cells": [
  {
   "cell_type": "code",
   "execution_count": 117,
   "metadata": {},
   "outputs": [],
   "source": [
    "import pandas as pd\n",
    "import numpy as np\n",
    "import scipy \n",
    "from scipy.stats import norm\n",
    "\n",
    "\n",
    "from matplotlib import pyplot as plt\n",
    "import statsmodels.formula.api as smf\n",
    "import statsmodels.api as sm"
   ]
  },
  {
   "cell_type": "code",
   "execution_count": 118,
   "metadata": {},
   "outputs": [
    {
     "name": "stdout",
     "output_type": "stream",
     "text": [
      "  Rating  Prob_Loan_BBB  Loss_BBB  Prob_Loan_A  Loss_A\n",
      "0    AAA         0.0002     -2.28       0.0009   -0.45\n",
      "1     AA         0.0033     -2.10       0.0227   -0.23\n",
      "2      A         0.0595     -1.57       0.9105   -0.12\n",
      "3    BBB         0.8693     -0.46       0.0552    1.08\n",
      "4     BB         0.0530      5.07       0.0074    3.16\n",
      "5      B         0.0117      8.99       0.0026    5.56\n",
      "6    CCC         0.0012     23.45       0.0001   18.78\n",
      "7      D         0.0018     55.96       0.0006   55.96\n"
     ]
    }
   ],
   "source": [
    "filename='DataLab4.xlsx'\n",
    "Migration_data = pd.read_excel('DataLab4.xlsx')\n",
    "\n",
    "print(Migration_data)"
   ]
  },
  {
   "cell_type": "code",
   "execution_count": 119,
   "metadata": {},
   "outputs": [
    {
     "name": "stdout",
     "output_type": "stream",
     "text": [
      "  Rating  Number of times\n",
      "0    AAA             20.0\n",
      "1     AA            330.0\n",
      "2      A           5950.0\n",
      "3    BBB          86930.0\n",
      "4     BB           5300.0\n",
      "5      B           1170.0\n",
      "6    CCC            120.0\n",
      "7      D            180.0\n"
     ]
    }
   ],
   "source": [
    "#Q1\n",
    "\n",
    "n_sims= 100000\n",
    "n_times = n_sims * Migration_data['Prob_Loan_BBB']\n",
    "answer1= pd.DataFrame({'Rating':Migration_data['Rating'],'Number of times': n_times})\n",
    "\n",
    "print(answer1)"
   ]
  },
  {
   "cell_type": "code",
   "execution_count": 120,
   "metadata": {},
   "outputs": [
    {
     "name": "stdout",
     "output_type": "stream",
     "text": [
      "7.793265378036817\n",
      "10.352278225662175\n",
      "12.458705226276624\n"
     ]
    }
   ],
   "source": [
    "#Q2\n",
    "\n",
    "alpha99 = 0.99\n",
    "alpha999 = 0.999\n",
    "alpha9999 = 0.9999\n",
    "mu = 0\n",
    "sigp = 3.35 \n",
    "\n",
    "\n",
    "VaR99 = norm.ppf(alpha99,mu,1)*sigp\n",
    "VaR999 = norm.ppf(alpha999,mu,1)*sigp\n",
    "VaR9999 = norm.ppf(alpha9999,mu,1)*sigp\n",
    "\n",
    "print(VaR99)\n",
    "print(VaR999)\n",
    "print(VaR9999)"
   ]
  },
  {
   "cell_type": "code",
   "execution_count": 121,
   "metadata": {},
   "outputs": [],
   "source": [
    "#Q3a\n",
    "\n",
    "np.random.seed(1) # Set random seed for reproducability\n",
    "x1 = np.random.normal(0,1,size=(1,100000)) # 100,000 random numbers\n",
    "x2 = np.random.normal(0,1,size=(1,100000))"
   ]
  },
  {
   "cell_type": "code",
   "execution_count": 122,
   "metadata": {},
   "outputs": [
    {
     "name": "stdout",
     "output_type": "stream",
     "text": [
      "[-3.2389 -3.1947 -2.7164 -2.3009 -1.507   1.9845  3.1214]\n",
      "[-2.9112 -2.7478 -2.1781 -1.4931  1.5301  2.6968  3.5401]\n"
     ]
    }
   ],
   "source": [
    "#Q3b\n",
    "\n",
    "probabilitiesBBB = Migration_data['Prob_Loan_BBB']\n",
    "cumulativeprobBBB = np.cumsum(np.flip(probabilitiesBBB))\n",
    "QuantilesBBB = norm.ppf(cumulativeprobBBB[:-1])\n",
    "\n",
    "#We need to create the same vectors for the A rated one.\n",
    "probabilitiesA = Migration_data['Prob_Loan_A']\n",
    "cumulativeprobA = np.cumsum(np.flip(probabilitiesA))\n",
    "QuantilesA = norm.ppf(cumulativeprobA[:-1])\n",
    "\n",
    "print(QuantilesA)\n",
    "print(QuantilesBBB)"
   ]
  },
  {
   "cell_type": "code",
   "execution_count": 131,
   "metadata": {},
   "outputs": [],
   "source": [
    "#Q4\n",
    "\n",
    "R = 0.35\n",
    "q1 = x1\n",
    "q2 = R*x1+np.sqrt(1-R**2)*x2 # Cholesky decomposition VL16 slides 13-15\n",
    "#print(scipy.stats.pearsonr(q1, q2)) # Correlation and p-stat for null of correlation=0"
   ]
  },
  {
   "cell_type": "code",
   "execution_count": 124,
   "metadata": {},
   "outputs": [
    {
     "name": "stdout",
     "output_type": "stream",
     "text": [
      "  Rating  Number of times  n_simulated     ratio\n",
      "0    AAA             20.0           22  0.909091\n",
      "1     AA            330.0          348  0.948276\n",
      "2      A           5950.0         5996  0.992328\n",
      "3    BBB          86930.0        87065  0.998449\n",
      "4     BB           5300.0         5140  1.031128\n",
      "5      B           1170.0         1124  1.040925\n",
      "6    CCC            120.0          116  1.034483\n",
      "7      D            180.0          189  0.952381\n"
     ]
    }
   ],
   "source": [
    "#Q5\n",
    "T=1\n",
    "position=np.zeros((len(q1.T),1))\n",
    "\n",
    "for i in range(len(q1.T)):\n",
    "    q1temp= np.concatenate((QuantilesBBB, q1[:,i]))\n",
    "    q1sorted=np.sort(q1temp)[::-1]\n",
    "    bol_list=(q1sorted==q1[:,i])\n",
    "    position[i,:] = [j for j, val in enumerate(bol_list) if val]\n",
    "    \n",
    "a = pd.DataFrame(position).value_counts().sort_index()\n",
    "\n",
    "answer1['n_simulated'] = a.values\n",
    "answer1['ratio']= answer1['Number of times']/a.values\n",
    "print(answer1)"
   ]
  },
  {
   "cell_type": "code",
   "execution_count": 125,
   "metadata": {},
   "outputs": [
    {
     "data": {
      "text/plain": [
       "Text(0, 0.5, 'prob')"
      ]
     },
     "execution_count": 125,
     "metadata": {},
     "output_type": "execute_result"
    },
    {
     "data": {
      "image/png": "[encoded data removed]",
      "text/plain": [
       "<Figure size 640x480 with 1 Axes>"
      ]
     },
     "metadata": {},
     "output_type": "display_data"
    }
   ],
   "source": [
    "#Q6\n",
    "\n",
    "loss_BBB = Migration_data[\"Loss_BBB\"]\n",
    "simulated_losses_BBB = np.zeros((len(q1.T),1))\n",
    "\n",
    "for i in range(len(q1.T)):\n",
    "    q1temp = np.concatenate((QuantilesBBB, q1[:,i]))\n",
    "    q1sorted = np.sort(q1temp)[::-1] #sorts descending [::-1] reverses order\n",
    "    bol_list = (q1sorted == q1[:,i])\n",
    "    r = [j for j, val in enumerate(bol_list) if val]\n",
    "    simulated_losses_BBB[i,:] = loss_BBB[r]\n",
    "    \n",
    "loss_A = Migration_data[\"Loss_A\"]\n",
    "simulated_losses_A = np.zeros((len(q2.T),1))\n",
    "\n",
    "\n",
    "for i in range(len(q2.T)):\n",
    "    q2temp = np.concatenate((QuantilesA, q2[:,i]))\n",
    "    q2sorted = np.sort(q2temp)[::-1] #sorts descending [::-1] reverses order\n",
    "    bol_list = (q2sorted == q2[:,i])\n",
    "    r = [j for j, val in enumerate(bol_list) if val]\n",
    "    simulated_losses_A[i,:] = loss_A[r]\n",
    "    \n",
    "Loss_Portfolio = simulated_losses_BBB + simulated_losses_A\n",
    "\n",
    "plt.hist(Loss_Portfolio, density = True, bins = 200)\n",
    "plt.ylim([0, 0.01])\n",
    "plt.title('Portfolio Loss distribution for correlation '+ str(R))\n",
    "plt.xlabel('Loss')\n",
    "plt.ylabel('prob')"
   ]
  },
  {
   "cell_type": "code",
   "execution_count": 129,
   "metadata": {},
   "outputs": [
    {
     "name": "stdout",
     "output_type": "stream",
     "text": [
      "[ 8.87 55.84 64.95]\n"
     ]
    }
   ],
   "source": [
    "VaRs = np.quantile(Loss_Portfolio, [0.99,0.999,0.9999])\n",
    "print(VaRs)"
   ]
  },
  {
   "cell_type": "code",
   "execution_count": null,
   "metadata": {},
   "outputs": [],
   "source": [
    "#Q8 \n",
    "\n",
    "#a)Well because the likelihood of default is really low but carries large losses.\n",
    "#Because of the low probability these are not captured in the lower confidence levels. \n",
    "#More over we seem to have \"fatter\" tails in the \"real\" loss dist. \n",
    "\n",
    "#b) In finance it is usually good to add another security in your portfolio to increase the level of diversification.\n",
    "#But when assets are correlated the loss that one experiences increases in probability compared to the case with low correlation.\n",
    "#Since when one bond gets a downgrade, If we have a high R(degree of correlation), \n",
    "#it also means that the other bond will experience a downgrade, and this will have a higher loss compared to if the\n",
    "#correlation was low."
   ]
  }
 ],
 "metadata": {
  "kernelspec": {
   "display_name": "Python 3",
   "language": "python",
   "name": "python3"
  },
  "language_info": {
   "codemirror_mode": {
    "name": "ipython",
    "version": 3
   },
   "file_extension": ".py",
   "mimetype": "text/x-python",
   "name": "python",
   "nbconvert_exporter": "python",
   "pygments_lexer": "ipython3",
   "version": "3.7.6"
  }
 },
 "nbformat": 4,
 "nbformat_minor": 5
}
