{
 "cells": [
  {
   "cell_type": "code",
   "execution_count": 1,
   "metadata": {},
   "outputs": [],
   "source": [
    "import pandas as pd\n",
    "import numpy as np\n",
    "from matplotlib import pyplot as plt\n",
    "import math\n",
    "from scipy import stats as st\n",
    "import random"
   ]
  },
  {
   "cell_type": "code",
   "execution_count": 2,
   "metadata": {},
   "outputs": [
    {
     "data": {
      "text/html": [
       "<div>\n",
       "<style scoped>\n",
       "    .dataframe tbody tr th:only-of-type {\n",
       "        vertical-align: middle;\n",
       "    }\n",
       "\n",
       "    .dataframe tbody tr th {\n",
       "        vertical-align: top;\n",
       "    }\n",
       "\n",
       "    .dataframe thead th {\n",
       "        text-align: right;\n",
       "    }\n",
       "</style>\n",
       "<table border=\"1\" class=\"dataframe\">\n",
       "  <thead>\n",
       "    <tr style=\"text-align: right;\">\n",
       "      <th></th>\n",
       "      <th>Rating</th>\n",
       "      <th>Prob_Loan_BBB</th>\n",
       "      <th>Loss_BBB</th>\n",
       "      <th>Prob_Loan_A</th>\n",
       "      <th>Loss_A</th>\n",
       "    </tr>\n",
       "  </thead>\n",
       "  <tbody>\n",
       "    <tr>\n",
       "      <th>0</th>\n",
       "      <td>AAA</td>\n",
       "      <td>0.0002</td>\n",
       "      <td>-2.28</td>\n",
       "      <td>0.0009</td>\n",
       "      <td>-0.45</td>\n",
       "    </tr>\n",
       "    <tr>\n",
       "      <th>1</th>\n",
       "      <td>AA</td>\n",
       "      <td>0.0033</td>\n",
       "      <td>-2.10</td>\n",
       "      <td>0.0227</td>\n",
       "      <td>-0.23</td>\n",
       "    </tr>\n",
       "    <tr>\n",
       "      <th>2</th>\n",
       "      <td>A</td>\n",
       "      <td>0.0595</td>\n",
       "      <td>-1.57</td>\n",
       "      <td>0.9105</td>\n",
       "      <td>-0.12</td>\n",
       "    </tr>\n",
       "    <tr>\n",
       "      <th>3</th>\n",
       "      <td>BBB</td>\n",
       "      <td>0.8693</td>\n",
       "      <td>-0.46</td>\n",
       "      <td>0.0552</td>\n",
       "      <td>1.08</td>\n",
       "    </tr>\n",
       "    <tr>\n",
       "      <th>4</th>\n",
       "      <td>BB</td>\n",
       "      <td>0.0530</td>\n",
       "      <td>5.07</td>\n",
       "      <td>0.0074</td>\n",
       "      <td>3.16</td>\n",
       "    </tr>\n",
       "    <tr>\n",
       "      <th>5</th>\n",
       "      <td>B</td>\n",
       "      <td>0.0117</td>\n",
       "      <td>8.99</td>\n",
       "      <td>0.0026</td>\n",
       "      <td>5.56</td>\n",
       "    </tr>\n",
       "    <tr>\n",
       "      <th>6</th>\n",
       "      <td>CCC</td>\n",
       "      <td>0.0012</td>\n",
       "      <td>23.45</td>\n",
       "      <td>0.0001</td>\n",
       "      <td>18.78</td>\n",
       "    </tr>\n",
       "    <tr>\n",
       "      <th>7</th>\n",
       "      <td>D</td>\n",
       "      <td>0.0018</td>\n",
       "      <td>55.96</td>\n",
       "      <td>0.0006</td>\n",
       "      <td>55.96</td>\n",
       "    </tr>\n",
       "  </tbody>\n",
       "</table>\n",
       "</div>"
      ],
      "text/plain": [
       "  Rating  Prob_Loan_BBB  Loss_BBB  Prob_Loan_A  Loss_A\n",
       "0    AAA         0.0002     -2.28       0.0009   -0.45\n",
       "1     AA         0.0033     -2.10       0.0227   -0.23\n",
       "2      A         0.0595     -1.57       0.9105   -0.12\n",
       "3    BBB         0.8693     -0.46       0.0552    1.08\n",
       "4     BB         0.0530      5.07       0.0074    3.16\n",
       "5      B         0.0117      8.99       0.0026    5.56\n",
       "6    CCC         0.0012     23.45       0.0001   18.78\n",
       "7      D         0.0018     55.96       0.0006   55.96"
      ]
     },
     "execution_count": 2,
     "metadata": {},
     "output_type": "execute_result"
    }
   ],
   "source": [
    "path = \"./DataLab4.xlsx\"\n",
    "df = pd.read_excel(path)\n",
    "df"
   ]
  },
  {
   "cell_type": "markdown",
   "metadata": {},
   "source": [
    "**How many upgrades and downgrades to each rating in one year do we expect, given the probability migration table and the fact that we are using M = 100, 000 simulations (draws)? That is how many times out of 100,000 will the loan with an initial BBB rating get AAA, AA, ...D?**\n",
    "\n",
    "Answer: Since the probabilities of transition to the differents ratings are given in the table, the amount of simulations that end up in each category should be prob\\*M, that is for example P(BBB)\\*M = 0.8693\\*100000 = 86930. Below we do the simulations to conclude this:"
   ]
  },
  {
   "cell_type": "code",
   "execution_count": 4,
   "metadata": {},
   "outputs": [
    {
     "data": {
      "text/plain": [
       "BBB    86892\n",
       "A       5988\n",
       "BB      5274\n",
       "B       1154\n",
       "AA       351\n",
       "D        190\n",
       "CCC      131\n",
       "AAA       20\n",
       "dtype: int64"
      ]
     },
     "execution_count": 4,
     "metadata": {},
     "output_type": "execute_result"
    }
   ],
   "source": [
    "M = int(1e5)\n",
    "samples = pd.Series(random.choices(population=df.Rating, weights=df.Prob_Loan_BBB, k=M))\n",
    "samples.value_counts().sort_values(ascending = False)"
   ]
  },
  {
   "cell_type": "markdown",
   "metadata": {},
   "source": [
    "We see that this is approximately what we could expect."
   ]
  },
  {
   "cell_type": "code",
   "execution_count": 5,
   "metadata": {},
   "outputs": [
    {
     "name": "stdout",
     "output_type": "stream",
     "text": [
      "The 99.0%-VaR is: 7.7933\n",
      "The 99.9%-VaR is: 10.3523\n",
      "The 99.99%-VaR is: 12.4587\n"
     ]
    }
   ],
   "source": [
    "# 2\n",
    "alphas = [0.99, 0.999, 0.9999]\n",
    "mu = 0\n",
    "sig_p = 3.35\n",
    "for alpha in alphas:\n",
    "    VaR = mu + st.norm.ppf(alpha)*sig_p\n",
    "    print(f\"The {alpha*100}%-VaR is: {VaR:.4f}\")"
   ]
  },
  {
   "cell_type": "code",
   "execution_count": 6,
   "metadata": {},
   "outputs": [],
   "source": [
    "# 3a)\n",
    "x1 = np.random.normal(0,1,M)\n",
    "x2 = np.random.normal(0,1,M)"
   ]
  },
  {
   "cell_type": "code",
   "execution_count": 7,
   "metadata": {},
   "outputs": [
    {
     "data": {
      "text/html": [
       "<div>\n",
       "<style scoped>\n",
       "    .dataframe tbody tr th:only-of-type {\n",
       "        vertical-align: middle;\n",
       "    }\n",
       "\n",
       "    .dataframe tbody tr th {\n",
       "        vertical-align: top;\n",
       "    }\n",
       "\n",
       "    .dataframe thead th {\n",
       "        text-align: right;\n",
       "    }\n",
       "</style>\n",
       "<table border=\"1\" class=\"dataframe\">\n",
       "  <thead>\n",
       "    <tr style=\"text-align: right;\">\n",
       "      <th></th>\n",
       "      <th>Rating</th>\n",
       "      <th>Prob_Loan_BBB</th>\n",
       "      <th>Loss_BBB</th>\n",
       "      <th>Prob_Loan_A</th>\n",
       "      <th>Loss_A</th>\n",
       "    </tr>\n",
       "  </thead>\n",
       "  <tbody>\n",
       "    <tr>\n",
       "      <th>0</th>\n",
       "      <td>AAA</td>\n",
       "      <td>0.0002</td>\n",
       "      <td>-2.28</td>\n",
       "      <td>0.0009</td>\n",
       "      <td>-0.45</td>\n",
       "    </tr>\n",
       "    <tr>\n",
       "      <th>1</th>\n",
       "      <td>AA</td>\n",
       "      <td>0.0033</td>\n",
       "      <td>-2.10</td>\n",
       "      <td>0.0227</td>\n",
       "      <td>-0.23</td>\n",
       "    </tr>\n",
       "    <tr>\n",
       "      <th>2</th>\n",
       "      <td>A</td>\n",
       "      <td>0.0595</td>\n",
       "      <td>-1.57</td>\n",
       "      <td>0.9105</td>\n",
       "      <td>-0.12</td>\n",
       "    </tr>\n",
       "    <tr>\n",
       "      <th>3</th>\n",
       "      <td>BBB</td>\n",
       "      <td>0.8693</td>\n",
       "      <td>-0.46</td>\n",
       "      <td>0.0552</td>\n",
       "      <td>1.08</td>\n",
       "    </tr>\n",
       "    <tr>\n",
       "      <th>4</th>\n",
       "      <td>BB</td>\n",
       "      <td>0.0530</td>\n",
       "      <td>5.07</td>\n",
       "      <td>0.0074</td>\n",
       "      <td>3.16</td>\n",
       "    </tr>\n",
       "    <tr>\n",
       "      <th>5</th>\n",
       "      <td>B</td>\n",
       "      <td>0.0117</td>\n",
       "      <td>8.99</td>\n",
       "      <td>0.0026</td>\n",
       "      <td>5.56</td>\n",
       "    </tr>\n",
       "    <tr>\n",
       "      <th>6</th>\n",
       "      <td>CCC</td>\n",
       "      <td>0.0012</td>\n",
       "      <td>23.45</td>\n",
       "      <td>0.0001</td>\n",
       "      <td>18.78</td>\n",
       "    </tr>\n",
       "    <tr>\n",
       "      <th>7</th>\n",
       "      <td>D</td>\n",
       "      <td>0.0018</td>\n",
       "      <td>55.96</td>\n",
       "      <td>0.0006</td>\n",
       "      <td>55.96</td>\n",
       "    </tr>\n",
       "  </tbody>\n",
       "</table>\n",
       "</div>"
      ],
      "text/plain": [
       "  Rating  Prob_Loan_BBB  Loss_BBB  Prob_Loan_A  Loss_A\n",
       "0    AAA         0.0002     -2.28       0.0009   -0.45\n",
       "1     AA         0.0033     -2.10       0.0227   -0.23\n",
       "2      A         0.0595     -1.57       0.9105   -0.12\n",
       "3    BBB         0.8693     -0.46       0.0552    1.08\n",
       "4     BB         0.0530      5.07       0.0074    3.16\n",
       "5      B         0.0117      8.99       0.0026    5.56\n",
       "6    CCC         0.0012     23.45       0.0001   18.78\n",
       "7      D         0.0018     55.96       0.0006   55.96"
      ]
     },
     "execution_count": 7,
     "metadata": {},
     "output_type": "execute_result"
    }
   ],
   "source": [
    "df"
   ]
  },
  {
   "cell_type": "code",
   "execution_count": 8,
   "metadata": {},
   "outputs": [
    {
     "data": {
      "text/html": [
       "<div>\n",
       "<style scoped>\n",
       "    .dataframe tbody tr th:only-of-type {\n",
       "        vertical-align: middle;\n",
       "    }\n",
       "\n",
       "    .dataframe tbody tr th {\n",
       "        vertical-align: top;\n",
       "    }\n",
       "\n",
       "    .dataframe thead th {\n",
       "        text-align: right;\n",
       "    }\n",
       "</style>\n",
       "<table border=\"1\" class=\"dataframe\">\n",
       "  <thead>\n",
       "    <tr style=\"text-align: right;\">\n",
       "      <th></th>\n",
       "      <th>rating</th>\n",
       "      <th>BBB_quantiles</th>\n",
       "      <th>A_quantiles</th>\n",
       "    </tr>\n",
       "  </thead>\n",
       "  <tbody>\n",
       "    <tr>\n",
       "      <th>0</th>\n",
       "      <td>AAA</td>\n",
       "      <td>3.540084</td>\n",
       "      <td>3.121389</td>\n",
       "    </tr>\n",
       "    <tr>\n",
       "      <th>1</th>\n",
       "      <td>AA</td>\n",
       "      <td>2.696844</td>\n",
       "      <td>1.984501</td>\n",
       "    </tr>\n",
       "    <tr>\n",
       "      <th>2</th>\n",
       "      <td>A</td>\n",
       "      <td>1.530068</td>\n",
       "      <td>NaN</td>\n",
       "    </tr>\n",
       "    <tr>\n",
       "      <th>3</th>\n",
       "      <td>BBB</td>\n",
       "      <td>NaN</td>\n",
       "      <td>-1.507042</td>\n",
       "    </tr>\n",
       "    <tr>\n",
       "      <th>4</th>\n",
       "      <td>BB</td>\n",
       "      <td>-1.493142</td>\n",
       "      <td>-2.300852</td>\n",
       "    </tr>\n",
       "    <tr>\n",
       "      <th>5</th>\n",
       "      <td>B</td>\n",
       "      <td>-2.178081</td>\n",
       "      <td>-2.716381</td>\n",
       "    </tr>\n",
       "    <tr>\n",
       "      <th>6</th>\n",
       "      <td>CCC</td>\n",
       "      <td>-2.747781</td>\n",
       "      <td>-3.194651</td>\n",
       "    </tr>\n",
       "    <tr>\n",
       "      <th>7</th>\n",
       "      <td>D</td>\n",
       "      <td>-2.911238</td>\n",
       "      <td>-3.238880</td>\n",
       "    </tr>\n",
       "  </tbody>\n",
       "</table>\n",
       "</div>"
      ],
      "text/plain": [
       "  rating  BBB_quantiles  A_quantiles\n",
       "0    AAA       3.540084     3.121389\n",
       "1     AA       2.696844     1.984501\n",
       "2      A       1.530068          NaN\n",
       "3    BBB            NaN    -1.507042\n",
       "4     BB      -1.493142    -2.300852\n",
       "5      B      -2.178081    -2.716381\n",
       "6    CCC      -2.747781    -3.194651\n",
       "7      D      -2.911238    -3.238880"
      ]
     },
     "execution_count": 8,
     "metadata": {},
     "output_type": "execute_result"
    }
   ],
   "source": [
    "# 3b)\n",
    "BBB_quant = -st.norm.ppf(df.Prob_Loan_BBB.cumsum())\n",
    "BBB_quant = np.delete(BBB_quant,-1)\n",
    "BBB_quant = np.insert(BBB_quant,3,np.nan)\n",
    "\n",
    "A_quant = -st.norm.ppf(df.Prob_Loan_A.cumsum())\n",
    "A_quant = np.delete(A_quant,-1)\n",
    "A_quant = np.insert(A_quant,2,np.nan)\n",
    "\n",
    "q_df = pd.DataFrame({'rating': df.Rating,\n",
    "                     'BBB_quantiles': BBB_quant,\n",
    "                     'A_quantiles': A_quant,\n",
    "                    },\n",
    "                   )\n",
    "q_df"
   ]
  },
  {
   "cell_type": "code",
   "execution_count": 9,
   "metadata": {},
   "outputs": [
    {
     "name": "stdout",
     "output_type": "stream",
     "text": [
      "The empirical correlation is 0.3478\n"
     ]
    }
   ],
   "source": [
    "# 4\n",
    "R = 0.35\n",
    "q1 = x1\n",
    "q2 = R*x1+np.sqrt(1-R**2)*x2\n",
    "print(f\"The empirical correlation is {st.pearsonr(q1, q2)[0]:.4f}\")"
   ]
  },
  {
   "cell_type": "code",
   "execution_count": 10,
   "metadata": {},
   "outputs": [
    {
     "data": {
      "text/plain": [
       "{'D': 177,\n",
       " 'CCC': 117,\n",
       " 'B': 1176,\n",
       " 'BB': 5216,\n",
       " 'BBB': 86966,\n",
       " 'A': 5986,\n",
       " 'AA': 335,\n",
       " 'AAA': 27}"
      ]
     },
     "execution_count": 10,
     "metadata": {},
     "output_type": "execute_result"
    }
   ],
   "source": [
    "# 5\n",
    "quantiles = q_df.BBB_quantiles[::-1].dropna().to_numpy()\n",
    "quantiles = np.array([float('-inf'), *quantiles, float('inf')])                      \n",
    "\n",
    "counts, bins = np.histogram(q1,quantiles)\n",
    "rating_counts = {rating: count for rating, count in zip(reversed(q_df.rating),counts)}\n",
    "rating_counts"
   ]
  },
  {
   "cell_type": "code",
   "execution_count": 11,
   "metadata": {},
   "outputs": [
    {
     "data": {
      "text/plain": [
       "BBB    86892\n",
       "A       5988\n",
       "BB      5274\n",
       "B       1154\n",
       "AA       351\n",
       "D        190\n",
       "CCC      131\n",
       "AAA       20\n",
       "dtype: int64"
      ]
     },
     "execution_count": 11,
     "metadata": {},
     "output_type": "execute_result"
    }
   ],
   "source": [
    "# comparing to first task\n",
    "samples.value_counts()"
   ]
  },
  {
   "cell_type": "markdown",
   "metadata": {},
   "source": [
    "**Very similar**"
   ]
  },
  {
   "cell_type": "code",
   "execution_count": 43,
   "metadata": {},
   "outputs": [
    {
     "data": {
      "text/html": [
       "<div>\n",
       "<style scoped>\n",
       "    .dataframe tbody tr th:only-of-type {\n",
       "        vertical-align: middle;\n",
       "    }\n",
       "\n",
       "    .dataframe tbody tr th {\n",
       "        vertical-align: top;\n",
       "    }\n",
       "\n",
       "    .dataframe thead th {\n",
       "        text-align: right;\n",
       "    }\n",
       "</style>\n",
       "<table border=\"1\" class=\"dataframe\">\n",
       "  <thead>\n",
       "    <tr style=\"text-align: right;\">\n",
       "      <th></th>\n",
       "      <th>rating</th>\n",
       "      <th>BBB_quantiles</th>\n",
       "      <th>A_quantiles</th>\n",
       "      <th>loss_bbb</th>\n",
       "      <th>loss_a</th>\n",
       "    </tr>\n",
       "  </thead>\n",
       "  <tbody>\n",
       "    <tr>\n",
       "      <th>0</th>\n",
       "      <td>AAA</td>\n",
       "      <td>3.540084</td>\n",
       "      <td>3.121389</td>\n",
       "      <td>-2.28</td>\n",
       "      <td>-0.45</td>\n",
       "    </tr>\n",
       "    <tr>\n",
       "      <th>1</th>\n",
       "      <td>AA</td>\n",
       "      <td>2.696844</td>\n",
       "      <td>1.984501</td>\n",
       "      <td>-2.10</td>\n",
       "      <td>-0.23</td>\n",
       "    </tr>\n",
       "    <tr>\n",
       "      <th>2</th>\n",
       "      <td>A</td>\n",
       "      <td>1.530068</td>\n",
       "      <td>NaN</td>\n",
       "      <td>-1.57</td>\n",
       "      <td>-0.12</td>\n",
       "    </tr>\n",
       "    <tr>\n",
       "      <th>3</th>\n",
       "      <td>BBB</td>\n",
       "      <td>NaN</td>\n",
       "      <td>-1.507042</td>\n",
       "      <td>-0.46</td>\n",
       "      <td>1.08</td>\n",
       "    </tr>\n",
       "    <tr>\n",
       "      <th>4</th>\n",
       "      <td>BB</td>\n",
       "      <td>-1.493142</td>\n",
       "      <td>-2.300852</td>\n",
       "      <td>5.07</td>\n",
       "      <td>3.16</td>\n",
       "    </tr>\n",
       "    <tr>\n",
       "      <th>5</th>\n",
       "      <td>B</td>\n",
       "      <td>-2.178081</td>\n",
       "      <td>-2.716381</td>\n",
       "      <td>8.99</td>\n",
       "      <td>5.56</td>\n",
       "    </tr>\n",
       "    <tr>\n",
       "      <th>6</th>\n",
       "      <td>CCC</td>\n",
       "      <td>-2.747781</td>\n",
       "      <td>-3.194651</td>\n",
       "      <td>23.45</td>\n",
       "      <td>18.78</td>\n",
       "    </tr>\n",
       "    <tr>\n",
       "      <th>7</th>\n",
       "      <td>D</td>\n",
       "      <td>-2.911238</td>\n",
       "      <td>-3.238880</td>\n",
       "      <td>55.96</td>\n",
       "      <td>55.96</td>\n",
       "    </tr>\n",
       "  </tbody>\n",
       "</table>\n",
       "</div>"
      ],
      "text/plain": [
       "  rating  BBB_quantiles  A_quantiles  loss_bbb  loss_a\n",
       "0    AAA       3.540084     3.121389     -2.28   -0.45\n",
       "1     AA       2.696844     1.984501     -2.10   -0.23\n",
       "2      A       1.530068          NaN     -1.57   -0.12\n",
       "3    BBB            NaN    -1.507042     -0.46    1.08\n",
       "4     BB      -1.493142    -2.300852      5.07    3.16\n",
       "5      B      -2.178081    -2.716381      8.99    5.56\n",
       "6    CCC      -2.747781    -3.194651     23.45   18.78\n",
       "7      D      -2.911238    -3.238880     55.96   55.96"
      ]
     },
     "execution_count": 43,
     "metadata": {},
     "output_type": "execute_result"
    }
   ],
   "source": [
    "# 6\n",
    "q_df['loss_bbb'] = df.Loss_BBB\n",
    "q_df['loss_a'] = df.Loss_A\n",
    "q_df"
   ]
  },
  {
   "cell_type": "code",
   "execution_count": 53,
   "metadata": {},
   "outputs": [
    {
     "name": "stdout",
     "output_type": "stream",
     "text": [
      "[0 0 0 0 0 0 1 0]\n",
      "7    55.96\n",
      "6    18.78\n",
      "5     5.56\n",
      "4     3.16\n",
      "3     1.08\n",
      "2    -0.12\n",
      "1    -0.23\n",
      "0    -0.45\n",
      "Name: loss_a, dtype: float64\n"
     ]
    },
    {
     "data": {
      "text/plain": [
       "-0.23"
      ]
     },
     "execution_count": 53,
     "metadata": {},
     "output_type": "execute_result"
    }
   ],
   "source": [
    "# 6 preparation\n",
    "bbb_quant = q_df.BBB_quantiles[::-1].dropna().to_numpy()\n",
    "bbb_quant = np.array([float('-inf'), *bbb_quant, float('inf')])                      \n",
    "\n",
    "a_quant = q_df.A_quantiles[::-1].dropna().to_numpy()\n",
    "a_quant = np.array([float('-inf'), *a_quant, float('inf')])                      \n",
    "\n",
    "# sanity check:\n",
    "movement = 2\n",
    "counts, bins = np.histogram(movement,a_quant) #should be a loss of -0.23\n",
    "print(counts)\n",
    "print(q_df.loss_a[::-1])\n",
    "np.dot(counts,q_df.loss_a[::-1])"
   ]
  },
  {
   "cell_type": "code",
   "execution_count": 50,
   "metadata": {},
   "outputs": [],
   "source": [
    "# 6 \n",
    "losses = []\n",
    "for bbb_movement, a_movement in zip(q1,q2):\n",
    "    \n",
    "    a_counts, bins = np.histogram(a_movement,a_quant)\n",
    "    a_loss = np.dot(a_counts,q_df.loss_a[::-1])\n",
    "    \n",
    "    bbb_counts, bins = np.histogram(bbb_movement,bbb_quant)\n",
    "    bbb_loss = np.dot(bbb_counts,q_df.loss_bbb[::-1])\n",
    "    \n",
    "    losses.append(a_loss+bbb_loss)"
   ]
  },
  {
   "cell_type": "code",
   "execution_count": 90,
   "metadata": {},
   "outputs": [
    {
     "data": {
      "image/png": "[encoded data removed]",
      "text/plain": [
       "<Figure size 432x288 with 1 Axes>"
      ]
     },
     "metadata": {
      "needs_background": "light"
     },
     "output_type": "display_data"
    }
   ],
   "source": [
    "plt.hist(losses,bins = 200, density = True);\n",
    "plt.ylim([0,0.01]);"
   ]
  },
  {
   "cell_type": "code",
   "execution_count": 91,
   "metadata": {},
   "outputs": [
    {
     "name": "stdout",
     "output_type": "stream",
     "text": [
      "[ 8.87 55.84 64.95]\n"
     ]
    }
   ],
   "source": [
    "# 7 with R = 0.35\n",
    "VaRs = np.quantile(losses, [0.99,0.999,0.9999])\n",
    "print(VaRs)"
   ]
  },
  {
   "cell_type": "code",
   "execution_count": 121,
   "metadata": {},
   "outputs": [
    {
     "name": "stdout",
     "output_type": "stream",
     "text": [
      "The empirical correlation is 0.9501\n"
     ]
    }
   ],
   "source": [
    "x1 = np.random.normal(0,1,M)\n",
    "x2 = np.random.normal(0,1,M)\n",
    "\n",
    "R = 0.95\n",
    "q1 = x1\n",
    "q2 = R*x1+np.sqrt(1-R**2)*x2\n",
    "print(f\"The empirical correlation is {st.pearsonr(q1, q2)[0]:.4f}\")"
   ]
  },
  {
   "cell_type": "code",
   "execution_count": 122,
   "metadata": {},
   "outputs": [],
   "source": [
    "losses = []\n",
    "for bbb_movement, a_movement in zip(q1,q2):\n",
    "    \n",
    "    a_counts, bins = np.histogram(a_movement,a_quant)\n",
    "    a_loss = np.dot(a_counts,q_df.loss_a[::-1])\n",
    "    \n",
    "    bbb_counts, bins = np.histogram(bbb_movement,bbb_quant)\n",
    "    bbb_loss = np.dot(bbb_counts,q_df.loss_bbb[::-1])\n",
    "    \n",
    "    losses.append(a_loss+bbb_loss)\n",
    "VaRs = np.quantile(losses, [0.99,0.999,0.9999])"
   ]
  },
  {
   "cell_type": "code",
   "execution_count": 112,
   "metadata": {},
   "outputs": [
    {
     "name": "stdout",
     "output_type": "stream",
     "text": [
      "VaRs for R = -0.5: [ 8.87 55.84 55.84]\n"
     ]
    }
   ],
   "source": [
    "print(f\"VaRs for R = {R}: {VaRs}\")"
   ]
  },
  {
   "cell_type": "code",
   "execution_count": 115,
   "metadata": {},
   "outputs": [
    {
     "name": "stdout",
     "output_type": "stream",
     "text": [
      "VaRs for R = 0: [ 8.87 55.84 57.04]\n"
     ]
    }
   ],
   "source": [
    "print(f\"VaRs for R = {R}: {VaRs}\")"
   ]
  },
  {
   "cell_type": "code",
   "execution_count": 118,
   "metadata": {},
   "outputs": [
    {
     "name": "stdout",
     "output_type": "stream",
     "text": [
      "VaRs for R = 0.35: [ 8.87 55.84 61.03]\n"
     ]
    }
   ],
   "source": [
    "print(f\"VaRs for R = {R}: {VaRs}\")"
   ]
  },
  {
   "cell_type": "code",
   "execution_count": 123,
   "metadata": {},
   "outputs": [
    {
     "name": "stdout",
     "output_type": "stream",
     "text": [
      "VaRs for R = 0.95: [ 10.07  61.52 111.92]\n"
     ]
    }
   ],
   "source": [
    "print(f\"VaRs for R = {R}: {VaRs}\")"
   ]
  },
  {
   "cell_type": "markdown",
   "metadata": {},
   "source": [
    "**Question 1:**\n",
    "The normal distribution is often too \"forgiving\" for tail events in real life applications. Since the degrees of freedom in this case is limited (all movements are mapped into eight magnitudes of losses, thus discretised), a t-distribution approximation would perhaps be more suitable, or something else with fatter tails. However, closer to the mean, where many events fall, the normal distribution is more correct and is therefore better for not-as-extreme cases as alpha = 0.9999.\n",
    "\n",
    "\n",
    "**Question 2:** The asset correlation has a very high impact. With high correlation, the two loans are more and more similar and therefore less and less well hedged. As we can see above and as is remembered from first course in finance, two negatively correlated assets is a better hedge. For the highest correlation that we simulate, 0.95, we see that the highest VaR implies both loans defaulting, something that would be disastrous for the lender. If we think that we have spread our eggs into different baskets, but the destiny them show to be almost identical (dropping one makes us drop the other as well), one could argue that we have de facto put all eggs in one basket. "
   ]
  },
  {
   "cell_type": "code",
   "execution_count": null,
   "metadata": {},
   "outputs": [],
   "source": []
  }
 ],
 "metadata": {
  "kernelspec": {
   "display_name": "Python 3",
   "language": "python",
   "name": "python3"
  },
  "language_info": {
   "codemirror_mode": {
    "name": "ipython",
    "version": 3
   },
   "file_extension": ".py",
   "mimetype": "text/x-python",
   "name": "python",
   "nbconvert_exporter": "python",
   "pygments_lexer": "ipython3",
   "version": "3.7.6"
  }
 },
 "nbformat": 4,
 "nbformat_minor": 4
}
