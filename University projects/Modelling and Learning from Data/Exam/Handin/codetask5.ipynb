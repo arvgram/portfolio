{
  "nbformat": 4,
  "nbformat_minor": 0,
  "metadata": {
    "colab": {
      "provenance": []
    },
    "kernelspec": {
      "name": "python3",
      "display_name": "Python 3"
    }
  },
  "cells": [
    {
      "cell_type": "markdown",
      "metadata": {
        "id": "iEGwNNUhTRN_"
      },
      "source": [
        "Causal inference problem on exam 2023 \n",
        "\n",
        "Variables: A,B,C,X,Y \\\\\n",
        "Coefficients: c1-c7 (assumed unknown)\n",
        "\n",
        "Diagram:\n",
        "\n",
        "![image.png](data:image/png;base64,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)"
      ]
    },
    {
      "cell_type": "code",
      "metadata": {
        "id": "Ecz7LEUyR02n"
      },
      "source": [
        "import numpy as np\n",
        "import statsmodels.formula.api as smf\n",
        "import pandas as pd\n",
        "import matplotlib.pyplot as plt\n",
        "from  statistics import *"
      ],
      "execution_count": 1,
      "outputs": []
    },
    {
      "cell_type": "code",
      "metadata": {
        "id": "hbBhdeYPR3ic",
        "colab": {
          "base_uri": "https://localhost:8080/"
        },
        "outputId": "a8d1b410-fcdd-442b-da35-8076756e7342"
      },
      "source": [
        "# How the data could have been generated (linear structured causal model)\n",
        "# The true coefficients c1-c7 are unknown \n",
        "\n",
        "c1 = 1\n",
        "c2 = 1\n",
        "c3 = 1\n",
        "c4 = 1\n",
        "c5 = 1\n",
        "c6 = 1\n",
        "c7 = 1\n",
        "\n",
        "N = 10000; \n",
        "na = np.random.normal(0, 1, N)\n",
        "nb = np.random.normal(0, 1, N)\n",
        "nc = np.random.normal(0, 1, N)\n",
        "nx = np.random.normal(0, 1, N)\n",
        "ny = np.random.normal(0, 1, N)\n",
        "\n",
        "A = na\n",
        "B = c1*A + nb\n",
        "X = c2*B + nx     # An intervention on X would replace this line\n",
        "X = 7.5 * np.ones(N)  # use for example this line to set X = 5.0\n",
        "C = c3*B + c7*X + nc\n",
        "Y = c4*C + c5*A + c6*X + ny\n",
        "\n",
        "dat1 = pd.DataFrame({'A':A, 'B':B, 'C':C, 'X':X, 'Y':Y})\n",
        "mean(Y)"
      ],
      "execution_count": 33,
      "outputs": [
        {
          "output_type": "execute_result",
          "data": {
            "text/plain": [
              "14.991877644561601"
            ]
          },
          "metadata": {},
          "execution_count": 33
        }
      ]
    },
    {
      "cell_type": "code",
      "source": [],
      "metadata": {
        "colab": {
          "base_uri": "https://localhost:8080/"
        },
        "id": "27VuYwqvitcP",
        "outputId": "38ba4ad8-f3e5-420a-bb59-777745ad9a6f"
      },
      "execution_count": 9,
      "outputs": [
        {
          "output_type": "execute_result",
          "data": {
            "text/plain": [
              "10.00441067090529"
            ]
          },
          "metadata": {},
          "execution_count": 9
        }
      ]
    },
    {
      "cell_type": "code",
      "metadata": {
        "id": "mb2QR7hxR4pn",
        "colab": {
          "base_uri": "https://localhost:8080/"
        },
        "outputId": "9501f84e-1d02-4abf-fd2f-62d21d55208e"
      },
      "source": [
        "# Ordinary Least Squares Estimation, with no bias term\n",
        "results1 = smf.ols('Y ~  X - 1 ', data=dat1).fit()  \n",
        "print(results1.summary())\n"
      ],
      "execution_count": 27,
      "outputs": [
        {
          "output_type": "stream",
          "name": "stdout",
          "text": [
            "                                 OLS Regression Results                                \n",
            "=======================================================================================\n",
            "Dep. Variable:                      Y   R-squared (uncentered):                   0.920\n",
            "Model:                            OLS   Adj. R-squared (uncentered):              0.920\n",
            "Method:                 Least Squares   F-statistic:                          5.718e+04\n",
            "Date:                Wed, 11 Jan 2023   Prob (F-statistic):                        0.00\n",
            "Time:                        11:36:15   Log-Likelihood:                         -18620.\n",
            "No. Observations:               10000   AIC:                                  3.724e+04\n",
            "Df Residuals:                    9998   BIC:                                  3.726e+04\n",
            "Df Model:                           2                                                  \n",
            "Covariance Type:            nonrobust                                                  \n",
            "==============================================================================\n",
            "                 coef    std err          t      P>|t|      [0.025      0.975]\n",
            "------------------------------------------------------------------------------\n",
            "X              2.4987      0.011    226.348      0.000       2.477       2.520\n",
            "A              1.4883      0.019     77.866      0.000       1.451       1.526\n",
            "==============================================================================\n",
            "Omnibus:                        2.680   Durbin-Watson:                   2.026\n",
            "Prob(Omnibus):                  0.262   Jarque-Bera (JB):                2.610\n",
            "Skew:                          -0.014   Prob(JB):                        0.271\n",
            "Kurtosis:                       2.926   Cond. No.                         2.39\n",
            "==============================================================================\n",
            "\n",
            "Notes:\n",
            "[1] R² is computed without centering (uncentered) since the model does not contain a constant.\n",
            "[2] Standard Errors assume that the covariance matrix of the errors is correctly specified.\n"
          ]
        }
      ]
    },
    {
      "cell_type": "code",
      "source": [
        "plt.plot(X,Y,'bx')\n",
        "plt.plot([-10,10],[-3*10,3*10],'r',linewidth=4)\n",
        "plt.xlabel('X')\n",
        "plt.ylabel('Y')\n",
        "plt.grid(True)"
      ],
      "metadata": {
        "colab": {
          "base_uri": "https://localhost:8080/",
          "height": 279
        },
        "id": "32eH0zJvjjIL",
        "outputId": "33e46a36-b5b1-4e46-d8d7-b07250a2862c"
      },
      "execution_count": null,
      "outputs": [
        {
          "output_type": "display_data",
          "data": {
            "text/plain": [
              "<Figure size 432x288 with 1 Axes>"
            ],
            "image/png": "[encoded data removed]"
          },
          "metadata": {
            "needs_background": "light"
          }
        }
      ]
    },
    {
      "cell_type": "code",
      "source": [
        "# Would like to choose X to achieve mean value Y = 15; \n",
        "# You can not use c1-c7 in your calculation, since these will be unknown in practice\n",
        "# To find suitable X you are instead only allowed to use existing data before the change for either: \n",
        "# X, Y and A\n",
        "# X, Y and B\n",
        "# X, Y and C\n",
        "results2 = smf.ols('Y ~ X + B - 1 ', data=dat1).fit()  \n",
        "print(results2.summary())"
      ],
      "metadata": {
        "id": "owH5DG3rxiTe",
        "colab": {
          "base_uri": "https://localhost:8080/"
        },
        "outputId": "60e34f58-1383-4671-8740-cd729329770e"
      },
      "execution_count": 32,
      "outputs": [
        {
          "output_type": "stream",
          "name": "stdout",
          "text": [
            "                                 OLS Regression Results                                \n",
            "=======================================================================================\n",
            "Dep. Variable:                      Y   R-squared (uncentered):                   0.919\n",
            "Model:                            OLS   Adj. R-squared (uncentered):              0.919\n",
            "Method:                 Least Squares   F-statistic:                          5.646e+04\n",
            "Date:                Wed, 11 Jan 2023   Prob (F-statistic):                        0.00\n",
            "Time:                        11:43:45   Log-Likelihood:                         -18678.\n",
            "No. Observations:               10000   AIC:                                  3.736e+04\n",
            "Df Residuals:                    9998   BIC:                                  3.738e+04\n",
            "Df Model:                           2                                                  \n",
            "Covariance Type:            nonrobust                                                  \n",
            "==============================================================================\n",
            "                 coef    std err          t      P>|t|      [0.025      0.975]\n",
            "------------------------------------------------------------------------------\n",
            "X              2.0157      0.016    128.995      0.000       1.985       2.046\n",
            "B              1.4639      0.019     76.659      0.000       1.427       1.501\n",
            "==============================================================================\n",
            "Omnibus:                        0.834   Durbin-Watson:                   2.016\n",
            "Prob(Omnibus):                  0.659   Jarque-Bera (JB):                0.865\n",
            "Skew:                           0.018   Prob(JB):                        0.649\n",
            "Kurtosis:                       2.971   Cond. No.                         3.18\n",
            "==============================================================================\n",
            "\n",
            "Notes:\n",
            "[1] R² is computed without centering (uncentered) since the model does not contain a constant.\n",
            "[2] Standard Errors assume that the covariance matrix of the errors is correctly specified.\n"
          ]
        }
      ]
    },
    {
      "cell_type": "code",
      "source": [
        "mean(Y) "
      ],
      "metadata": {
        "colab": {
          "base_uri": "https://localhost:8080/"
        },
        "id": "sWW2EHiV-Yp0",
        "outputId": "b0d3b185-412d-437c-cf5a-9d5a91fefcad"
      },
      "execution_count": 21,
      "outputs": [
        {
          "output_type": "execute_result",
          "data": {
            "text/plain": [
              "15.008979933858118"
            ]
          },
          "metadata": {},
          "execution_count": 21
        }
      ]
    },
    {
      "cell_type": "code",
      "source": [
        "plt.hist(Y,bins=40);"
      ],
      "metadata": {
        "colab": {
          "base_uri": "https://localhost:8080/",
          "height": 264
        },
        "id": "_N2Hmf7T-w6w",
        "outputId": "3c5815f7-c591-496f-fd8c-bd44058bad2b"
      },
      "execution_count": 34,
      "outputs": [
        {
          "output_type": "display_data",
          "data": {
            "text/plain": [
              "<Figure size 432x288 with 1 Axes>"
            ],
            "image/png": "[encoded data removed]"
          },
          "metadata": {
            "needs_background": "light"
          }
        }
      ]
    },
    {
      "cell_type": "code",
      "source": [
        "\n",
        "\n",
        "# To verify your idea, find suitable X from your causal inference analysis on historical data. \n",
        "# Do an intervention with this X and check that mean(Y) = 15 (approximately)\n",
        "# You can experiment with increasing N if you want to reduce impact of noise.\n",
        "# You might also want to change c1, .., c7 and verify that you method works for the general case\n"
      ],
      "metadata": {
        "id": "C8K47OSk8pUY"
      },
      "execution_count": null,
      "outputs": []
    }
  ]
}